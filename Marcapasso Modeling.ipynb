{
 "cells": [
  {
   "cell_type": "markdown",
   "metadata": {},
   "source": [
    "# Constants"
   ]
  },
  {
   "cell_type": "code",
   "execution_count": 1,
   "metadata": {
    "ExecuteTime": {
     "end_time": "2022-09-05T03:37:47.013027Z",
     "start_time": "2022-09-05T03:37:46.998021Z"
    }
   },
   "outputs": [],
   "source": [
    "TARGET = 'readmission_30d'\n",
    "N_FOLDS = 5\n",
    "MAX_EVALS = 30\n",
    "TEST_SIZE = 0.3"
   ]
  },
  {
   "cell_type": "markdown",
   "metadata": {},
   "source": [
    "# Import"
   ]
  },
  {
   "cell_type": "code",
   "execution_count": 2,
   "metadata": {
    "ExecuteTime": {
     "end_time": "2022-09-05T03:37:49.918956Z",
     "start_time": "2022-09-05T03:37:47.014027Z"
    }
   },
   "outputs": [],
   "source": [
    "import numpy as np \n",
    "import pandas as pd \n",
    "import matplotlib.pyplot as plt\n",
    "import seaborn as sns\n",
    "import pprint\n",
    "\n",
    "import os\n",
    "import yaml\n",
    "\n",
    "import lightgbm as lgb\n",
    "\n",
    "from sklearn.datasets import load_iris\n",
    "from sklearn.model_selection import train_test_split\n",
    "from sklearn import metrics\n",
    "from sklearn.metrics import roc_auc_score\n",
    "\n",
    "import shap\n",
    "\n",
    "from tqdm.notebook import tqdm"
   ]
  },
  {
   "cell_type": "markdown",
   "metadata": {},
   "source": [
    "# Load"
   ]
  },
  {
   "cell_type": "code",
   "execution_count": 3,
   "metadata": {
    "ExecuteTime": {
     "end_time": "2022-09-05T03:37:50.203997Z",
     "start_time": "2022-09-05T03:37:49.921956Z"
    },
    "scrolled": false
   },
   "outputs": [
    {
     "data": {
      "text/html": [
       "<div>\n",
       "<style scoped>\n",
       "    .dataframe tbody tr th:only-of-type {\n",
       "        vertical-align: middle;\n",
       "    }\n",
       "\n",
       "    .dataframe tbody tr th {\n",
       "        vertical-align: top;\n",
       "    }\n",
       "\n",
       "    .dataframe thead th {\n",
       "        text-align: right;\n",
       "    }\n",
       "</style>\n",
       "<table border=\"1\" class=\"dataframe\">\n",
       "  <thead>\n",
       "    <tr style=\"text-align: right;\">\n",
       "      <th></th>\n",
       "      <th>sex</th>\n",
       "      <th>dob</th>\n",
       "      <th>age</th>\n",
       "      <th>race</th>\n",
       "      <th>education_level</th>\n",
       "      <th>zipcode</th>\n",
       "      <th>patient_city</th>\n",
       "      <th>patient_state</th>\n",
       "      <th>underlying_heart_disease</th>\n",
       "      <th>heart_disease</th>\n",
       "      <th>...</th>\n",
       "      <th>n_procedure_180d</th>\n",
       "      <th>n_procedure_1year</th>\n",
       "      <th>classe_meds_cardio_qtde</th>\n",
       "      <th>meds_cardiovasc_qtde</th>\n",
       "      <th>meds_antimicrobianos</th>\n",
       "      <th>nyha_basal_group</th>\n",
       "      <th>cied_final_group_1</th>\n",
       "      <th>procedure_type_new</th>\n",
       "      <th>hospital_stay</th>\n",
       "      <th>split</th>\n",
       "    </tr>\n",
       "  </thead>\n",
       "  <tbody>\n",
       "    <tr>\n",
       "      <th>0</th>\n",
       "      <td>1</td>\n",
       "      <td>1966-01-23</td>\n",
       "      <td>44.6</td>\n",
       "      <td>1.0</td>\n",
       "      <td>2.0</td>\n",
       "      <td>3343010</td>\n",
       "      <td>SAO PAULO</td>\n",
       "      <td>35.0</td>\n",
       "      <td>1.0</td>\n",
       "      <td>0.0</td>\n",
       "      <td>...</td>\n",
       "      <td>0</td>\n",
       "      <td>0</td>\n",
       "      <td>3.0</td>\n",
       "      <td>6.0</td>\n",
       "      <td>3.0</td>\n",
       "      <td>1.0</td>\n",
       "      <td>1</td>\n",
       "      <td>2</td>\n",
       "      <td>1</td>\n",
       "      <td>train</td>\n",
       "    </tr>\n",
       "    <tr>\n",
       "      <th>1</th>\n",
       "      <td>1</td>\n",
       "      <td>1961-09-29</td>\n",
       "      <td>51.1</td>\n",
       "      <td>1.0</td>\n",
       "      <td>4.0</td>\n",
       "      <td>71505275</td>\n",
       "      <td>BRASILIA</td>\n",
       "      <td>53.0</td>\n",
       "      <td>1.0</td>\n",
       "      <td>0.0</td>\n",
       "      <td>...</td>\n",
       "      <td>0</td>\n",
       "      <td>0</td>\n",
       "      <td>NaN</td>\n",
       "      <td>0.0</td>\n",
       "      <td>4.0</td>\n",
       "      <td>1.0</td>\n",
       "      <td>1</td>\n",
       "      <td>1</td>\n",
       "      <td>2</td>\n",
       "      <td>train</td>\n",
       "    </tr>\n",
       "    <tr>\n",
       "      <th>2</th>\n",
       "      <td>0</td>\n",
       "      <td>1945-08-09</td>\n",
       "      <td>60.1</td>\n",
       "      <td>1.0</td>\n",
       "      <td>4.0</td>\n",
       "      <td>71015068</td>\n",
       "      <td>BRASILIA</td>\n",
       "      <td>53.0</td>\n",
       "      <td>1.0</td>\n",
       "      <td>0.0</td>\n",
       "      <td>...</td>\n",
       "      <td>0</td>\n",
       "      <td>0</td>\n",
       "      <td>NaN</td>\n",
       "      <td>0.0</td>\n",
       "      <td>0.0</td>\n",
       "      <td>1.0</td>\n",
       "      <td>1</td>\n",
       "      <td>2</td>\n",
       "      <td>1</td>\n",
       "      <td>train</td>\n",
       "    </tr>\n",
       "    <tr>\n",
       "      <th>3</th>\n",
       "      <td>1</td>\n",
       "      <td>1948-01-25</td>\n",
       "      <td>61.0</td>\n",
       "      <td>1.0</td>\n",
       "      <td>4.0</td>\n",
       "      <td>70753010</td>\n",
       "      <td>BRASILIA</td>\n",
       "      <td>53.0</td>\n",
       "      <td>2.0</td>\n",
       "      <td>0.0</td>\n",
       "      <td>...</td>\n",
       "      <td>0</td>\n",
       "      <td>0</td>\n",
       "      <td>NaN</td>\n",
       "      <td>0.0</td>\n",
       "      <td>8.0</td>\n",
       "      <td>1.0</td>\n",
       "      <td>1</td>\n",
       "      <td>1</td>\n",
       "      <td>2</td>\n",
       "      <td>train</td>\n",
       "    </tr>\n",
       "    <tr>\n",
       "      <th>4</th>\n",
       "      <td>1</td>\n",
       "      <td>1934-10-06</td>\n",
       "      <td>69.1</td>\n",
       "      <td>1.0</td>\n",
       "      <td>999.0</td>\n",
       "      <td>70386110</td>\n",
       "      <td>BRASILIA</td>\n",
       "      <td>53.0</td>\n",
       "      <td>NaN</td>\n",
       "      <td>NaN</td>\n",
       "      <td>...</td>\n",
       "      <td>0</td>\n",
       "      <td>0</td>\n",
       "      <td>NaN</td>\n",
       "      <td>NaN</td>\n",
       "      <td>NaN</td>\n",
       "      <td>NaN</td>\n",
       "      <td>1</td>\n",
       "      <td>1</td>\n",
       "      <td>8</td>\n",
       "      <td>train</td>\n",
       "    </tr>\n",
       "  </tbody>\n",
       "</table>\n",
       "<p>5 rows × 241 columns</p>\n",
       "</div>"
      ],
      "text/plain": [
       "   sex         dob   age  race  education_level   zipcode patient_city  \\\n",
       "0    1  1966-01-23  44.6   1.0              2.0   3343010    SAO PAULO   \n",
       "1    1  1961-09-29  51.1   1.0              4.0  71505275     BRASILIA   \n",
       "2    0  1945-08-09  60.1   1.0              4.0  71015068     BRASILIA   \n",
       "3    1  1948-01-25  61.0   1.0              4.0  70753010     BRASILIA   \n",
       "4    1  1934-10-06  69.1   1.0            999.0  70386110     BRASILIA   \n",
       "\n",
       "   patient_state  underlying_heart_disease  heart_disease  ...  \\\n",
       "0           35.0                       1.0            0.0  ...   \n",
       "1           53.0                       1.0            0.0  ...   \n",
       "2           53.0                       1.0            0.0  ...   \n",
       "3           53.0                       2.0            0.0  ...   \n",
       "4           53.0                       NaN            NaN  ...   \n",
       "\n",
       "   n_procedure_180d  n_procedure_1year  classe_meds_cardio_qtde  \\\n",
       "0                 0                  0                      3.0   \n",
       "1                 0                  0                      NaN   \n",
       "2                 0                  0                      NaN   \n",
       "3                 0                  0                      NaN   \n",
       "4                 0                  0                      NaN   \n",
       "\n",
       "   meds_cardiovasc_qtde  meds_antimicrobianos  nyha_basal_group  \\\n",
       "0                   6.0                   3.0               1.0   \n",
       "1                   0.0                   4.0               1.0   \n",
       "2                   0.0                   0.0               1.0   \n",
       "3                   0.0                   8.0               1.0   \n",
       "4                   NaN                   NaN               NaN   \n",
       "\n",
       "   cied_final_group_1  procedure_type_new  hospital_stay  split  \n",
       "0                   1                   2              1  train  \n",
       "1                   1                   1              2  train  \n",
       "2                   1                   2              1  train  \n",
       "3                   1                   1              2  train  \n",
       "4                   1                   1              8  train  \n",
       "\n",
       "[5 rows x 241 columns]"
      ]
     },
     "execution_count": 3,
     "metadata": {},
     "output_type": "execute_result"
    }
   ],
   "source": [
    "df_raw = pd.read_csv(\"dataset/processed_data.csv\",\n",
    "                     dtype={'date_procedure_9': 'str', 'date_procedure_10': 'str'})\n",
    "df_raw.head()"
   ]
  },
  {
   "cell_type": "code",
   "execution_count": 4,
   "metadata": {
    "ExecuteTime": {
     "end_time": "2022-09-05T03:37:50.220019Z",
     "start_time": "2022-09-05T03:37:50.204957Z"
    }
   },
   "outputs": [],
   "source": [
    "with open(\"auxiliar/significant_columns/categorical_{}.yaml\".format(TARGET), \"r\") as stream:\n",
    "    try:\n",
    "        initial_cat_features = yaml.safe_load(stream)\n",
    "    except yaml.YAMLError as exc:\n",
    "        print(exc)\n",
    "\n",
    "with open(\"auxiliar/significant_columns/numerical_{}.yaml\".format(TARGET), \"r\") as stream:\n",
    "    try:\n",
    "        initial_num_features = yaml.safe_load(stream)\n",
    "    except yaml.YAMLError as exc:\n",
    "        print(exc)\n",
    "\n",
    "initial_features = initial_cat_features + initial_num_features"
   ]
  },
  {
   "cell_type": "code",
   "execution_count": 5,
   "metadata": {
    "ExecuteTime": {
     "end_time": "2022-09-05T03:37:50.235729Z",
     "start_time": "2022-09-05T03:37:50.221019Z"
    }
   },
   "outputs": [],
   "source": [
    "exception_columns = ['death_intraop', 'death_intraop_1', 'disch_outcomes_t0']\n",
    "\n",
    "correlated_columns = ['year_procedure_1',  # com year_adm_t0\n",
    "                      'age_surgery_1',  # com age\n",
    "                      'admission_t0',  # com admission_pre_t0_count\n",
    "                      'atb',  # com meds_antimicrobianos\n",
    "                      'classe_meds_cardio_qtde',  # com classe_meds_qtde\n",
    "                      'suporte_hemod',  # com proced_invasivos_qtde,\n",
    "                      'radiografia',  # com exames_imagem_qtde\n",
    "                      'ecg'  # com metodos_graficos_qtde\n",
    "                      ]\n",
    "\n",
    "initial_features = list(set(initial_features) -\n",
    "                        set(exception_columns + correlated_columns))"
   ]
  },
  {
   "cell_type": "code",
   "execution_count": 6,
   "metadata": {
    "ExecuteTime": {
     "end_time": "2022-09-05T03:37:50.346042Z",
     "start_time": "2022-09-05T03:37:50.236373Z"
    }
   },
   "outputs": [],
   "source": [
    "for cat_feature in initial_cat_features:\n",
    "    df_raw[cat_feature] = df_raw[cat_feature].astype('category')"
   ]
  },
  {
   "cell_type": "markdown",
   "metadata": {},
   "source": [
    "# Split"
   ]
  },
  {
   "cell_type": "code",
   "execution_count": 7,
   "metadata": {
    "ExecuteTime": {
     "end_time": "2022-09-05T03:37:50.377192Z",
     "start_time": "2022-09-05T03:37:50.348037Z"
    }
   },
   "outputs": [],
   "source": [
    "X_df = df_raw[initial_features]\n",
    "y_df = df_raw[TARGET]\n",
    "\n",
    "X_train, X_test, y_train, y_test = train_test_split(X_df, y_df,\n",
    "                                                    test_size=TEST_SIZE,\n",
    "                                                    random_state=0,\n",
    "                                                    stratify=y_df)"
   ]
  },
  {
   "cell_type": "code",
   "execution_count": 8,
   "metadata": {
    "ExecuteTime": {
     "end_time": "2022-09-05T03:37:50.393044Z",
     "start_time": "2022-09-05T03:37:50.379038Z"
    }
   },
   "outputs": [
    {
     "name": "stdout",
     "output_type": "stream",
     "text": [
      "Training features shape:  (11036, 76)\n",
      "Testing features shape:  (4730, 76)\n"
     ]
    }
   ],
   "source": [
    "print(\"Training features shape: \", X_train.shape)\n",
    "print(\"Testing features shape: \", X_test.shape)"
   ]
  },
  {
   "cell_type": "markdown",
   "metadata": {},
   "source": [
    "# Functions"
   ]
  },
  {
   "cell_type": "code",
   "execution_count": 9,
   "metadata": {
    "ExecuteTime": {
     "end_time": "2022-09-05T03:37:50.409037Z",
     "start_time": "2022-09-05T03:37:50.395038Z"
    }
   },
   "outputs": [],
   "source": [
    "def fit_lightgbm(features, hyperparameters=None, early_stopping=True, plot_importance=False, print_results=True):\n",
    "    X_train_filtered = X_train[features]\n",
    "    X_test_filtered = X_test[features]\n",
    "    cat_features = list(set(features) & set(initial_cat_features))\n",
    "\n",
    "    train_set = lgb.Dataset(data=X_train_filtered, label=y_train, free_raw_data=False,\n",
    "                            categorical_feature=cat_features)\n",
    "\n",
    "    test_set = lgb.Dataset(data=X_test_filtered, label=y_test, free_raw_data=False,\n",
    "                           categorical_feature=cat_features)\n",
    "\n",
    "    # Get default hyperparameters\n",
    "    model = lgb.LGBMClassifier()\n",
    "\n",
    "    if hyperparameters is None:\n",
    "        hyperparameters = model.get_params()\n",
    "        del hyperparameters['n_estimators']\n",
    "        del hyperparameters['importance_type']\n",
    "        del hyperparameters['silent']\n",
    "\n",
    "    if early_stopping:\n",
    "        callbacks = [lgb.early_stopping(stopping_rounds=200)]\n",
    "        if 'n_estimators' in hyperparameters.keys():\n",
    "            del hyperparameters['n_estimators']\n",
    "    else:\n",
    "        callbacks = None\n",
    "    # Cross validation with early stopping\n",
    "    cv_results = lgb.cv(hyperparameters, train_set, num_boost_round=10000,\n",
    "                        callbacks=callbacks,\n",
    "                        metrics='auc', nfold=N_FOLDS, seed=314,\n",
    "                        categorical_feature=cat_features)\n",
    "\n",
    "    # Optimal number of esimators found in cv\n",
    "    model.n_estimators = len(cv_results['auc-mean'])\n",
    "\n",
    "    # Train and make predicions with model\n",
    "    model.fit(X_train_filtered, y_train)\n",
    "    preds = model.predict_proba(X_test_filtered)[:, 1]\n",
    "    baseline_auc = roc_auc_score(y_test, preds)\n",
    "\n",
    "    if print_results:\n",
    "        print('The maximum validation ROC AUC was: {:.5f} with a standard deviation of {:.5f}.'.format(\n",
    "            cv_results['auc-mean'][-1], cv_results['auc-stdv'][-1]))\n",
    "        print('The optimal number of boosting rounds (estimators) was {}.'.format(\n",
    "            len(cv_results['auc-mean'])))\n",
    "        print('The baseline model scores {:.5f} ROC AUC on the test set.'.format(\n",
    "            baseline_auc))\n",
    "\n",
    "    feature_imp = pd.DataFrame(sorted(zip(model.feature_importances_, X_train_filtered.columns)),\n",
    "                               columns=['Value', 'Feature'])\n",
    "\n",
    "    if(plot_importance):\n",
    "        plt.figure(figsize=(20, 10))\n",
    "        sns.barplot(x=\"Value\", y=\"Feature\", data=feature_imp.sort_values(\n",
    "            by=\"Value\", ascending=False))\n",
    "        plt.title('LightGBM Features (avg over folds)')\n",
    "        plt.tight_layout()\n",
    "        plt.show()\n",
    "\n",
    "    return (model, cv_results, feature_imp)"
   ]
  },
  {
   "cell_type": "code",
   "execution_count": 10,
   "metadata": {
    "ExecuteTime": {
     "end_time": "2022-09-05T03:37:50.425075Z",
     "start_time": "2022-09-05T03:37:50.410044Z"
    }
   },
   "outputs": [],
   "source": [
    "def objective(features, hyperparameters, iteration):\n",
    "    \"\"\"Objective function for grid and random search. Returns\n",
    "       the cross validation score from a set of hyperparameters.\"\"\"\n",
    "\n",
    "    cv_results = fit_lightgbm(features, hyperparameters=hyperparameters,\n",
    "                              early_stopping=False,\n",
    "                              plot_importance=False, print_results=False)[1]\n",
    "\n",
    "    # results to retun\n",
    "    score = cv_results['auc-mean'][-1]\n",
    "    estimators = len(cv_results['auc-mean'])\n",
    "    hyperparameters['n_estimators'] = estimators\n",
    "\n",
    "    return [score, hyperparameters, iteration]"
   ]
  },
  {
   "cell_type": "code",
   "execution_count": 11,
   "metadata": {
    "ExecuteTime": {
     "end_time": "2022-09-05T03:37:50.441080Z",
     "start_time": "2022-09-05T03:37:50.426038Z"
    }
   },
   "outputs": [],
   "source": [
    "import itertools\n",
    "import random\n",
    "\n",
    "def random_search(features, param_grid, n_estimators, max_evals = MAX_EVALS):\n",
    "    \"\"\"Random search for hyperparameter optimization\"\"\"\n",
    "    \n",
    "    # Dataframe for results\n",
    "    results = pd.DataFrame(columns = ['score', 'hyperparameters', 'iteration'],\n",
    "                                  index = list(range(MAX_EVALS)))\n",
    "    \n",
    "    # Keep searching until reach max evaluations\n",
    "    for i in tqdm(range(MAX_EVALS)):\n",
    "        \n",
    "        # Choose random hyperparameters\n",
    "        hyperparameters = {k: random.sample(v, 1)[0] for k, v in param_grid.items()}\n",
    "        hyperparameters['n_estimators'] = n_estimators\n",
    "        # Evaluate randomly selected hyperparameters\n",
    "        eval_results = objective(features, hyperparameters, i)\n",
    "        \n",
    "        results.loc[i, :] = eval_results\n",
    "    \n",
    "    # Sort with best score on top\n",
    "    results.sort_values('score', ascending = False, inplace = True)\n",
    "    results.reset_index(inplace = True)\n",
    "    return results "
   ]
  },
  {
   "cell_type": "code",
   "execution_count": 12,
   "metadata": {
    "ExecuteTime": {
     "end_time": "2022-09-05T03:37:50.457074Z",
     "start_time": "2022-09-05T03:37:50.442045Z"
    }
   },
   "outputs": [],
   "source": [
    "def evaluate_search(results, name):\n",
    "    \"\"\"Evaluate model on test data using hyperparameters in results\n",
    "       Return dataframe of hyperparameters\"\"\"\n",
    "        \n",
    "    # Sort with best values on top\n",
    "    results = results.sort_values('score', ascending = False).reset_index(drop = True)\n",
    "    \n",
    "    # Print out cross validation high score\n",
    "    print('The highest cross validation score from {} was {:.5f} found on iteration {}.'.format(name, results.loc[0, 'score'], results.loc[0, 'iteration']))\n",
    "    \n",
    "    # Use best hyperparameters to create a model\n",
    "    hyperparameters = results.loc[0, 'hyperparameters']\n",
    "    print('\\nThe best hyperparameters were:')\n",
    "    pprint.pprint(hyperparameters)\n",
    "    \n",
    "    # Create dataframe of hyperparameters\n",
    "    hyp_df = pd.DataFrame(columns = list(results.loc[0, 'hyperparameters'].keys()))\n",
    "\n",
    "    # Iterate through each set of hyperparameters that were evaluated\n",
    "    for i, hyp in enumerate(results['hyperparameters']):\n",
    "        hyp_df = hyp_df.append(pd.DataFrame(hyp, index = [0]), \n",
    "                               ignore_index = True)\n",
    "        \n",
    "    # Put the iteration and score in the hyperparameter dataframe\n",
    "    hyp_df['iteration'] = results['iteration']\n",
    "    hyp_df['score'] = results['score']\n",
    "    \n",
    "    return hyp_df, hyperparameters"
   ]
  },
  {
   "cell_type": "markdown",
   "metadata": {},
   "source": [
    "# Baseline"
   ]
  },
  {
   "cell_type": "code",
   "execution_count": 13,
   "metadata": {
    "ExecuteTime": {
     "end_time": "2022-09-05T03:37:53.168381Z",
     "start_time": "2022-09-05T03:37:50.458039Z"
    }
   },
   "outputs": [
    {
     "name": "stdout",
     "output_type": "stream",
     "text": [
      "[LightGBM] [Warning] Auto-choosing col-wise multi-threading, the overhead of testing was 0.001570 seconds.\n",
      "You can set `force_col_wise=true` to remove the overhead.\n",
      "[LightGBM] [Info] Total Bins 3176\n",
      "[LightGBM] [Info] Number of data points in the train set: 8828, number of used features: 73\n",
      "[LightGBM] [Warning] Auto-choosing col-wise multi-threading, the overhead of testing was 0.002222 seconds.\n",
      "You can set `force_col_wise=true` to remove the overhead.\n",
      "[LightGBM] [Info] Total Bins 3176\n",
      "[LightGBM] [Info] Number of data points in the train set: 8829, number of used features: 73\n",
      "[LightGBM] [Warning] Auto-choosing col-wise multi-threading, the overhead of testing was 0.001612 seconds.\n",
      "You can set `force_col_wise=true` to remove the overhead.\n",
      "[LightGBM] [Info] Total Bins 3176\n",
      "[LightGBM] [Info] Number of data points in the train set: 8829, number of used features: 73\n",
      "[LightGBM] [Warning] Auto-choosing col-wise multi-threading, the overhead of testing was 0.001631 seconds.\n",
      "You can set `force_col_wise=true` to remove the overhead.\n",
      "[LightGBM] [Info] Total Bins 3176\n",
      "[LightGBM] [Info] Number of data points in the train set: 8829, number of used features: 73\n",
      "[LightGBM] [Warning] Auto-choosing col-wise multi-threading, the overhead of testing was 0.002188 seconds.\n",
      "You can set `force_col_wise=true` to remove the overhead.\n",
      "[LightGBM] [Info] Total Bins 3176\n",
      "[LightGBM] [Info] Number of data points in the train set: 8829, number of used features: 73\n",
      "[LightGBM] [Info] Start training from score 0.038174\n",
      "[LightGBM] [Info] Start training from score 0.038283\n",
      "[LightGBM] [Info] Start training from score 0.038283\n",
      "[LightGBM] [Info] Start training from score 0.038283\n",
      "[LightGBM] [Info] Start training from score 0.038170\n",
      "Training until validation scores don't improve for 200 rounds\n",
      "Early stopping, best iteration is:\n",
      "[23]\tcv_agg's auc: 0.691872 + 0.023011\n",
      "The maximum validation ROC AUC was: 0.69187 with a standard deviation of 0.02301.\n",
      "The optimal number of boosting rounds (estimators) was 23.\n",
      "The baseline model scores 0.64437 ROC AUC on the test set.\n"
     ]
    },
    {
     "data": {
      "image/png": "[encoded data removed]",
      "text/plain": [
       "<Figure size 1440x720 with 1 Axes>"
      ]
     },
     "metadata": {
      "needs_background": "light"
     },
     "output_type": "display_data"
    }
   ],
   "source": [
    "initial_model, _, feature_imp = fit_lightgbm(initial_features, plot_importance = True)"
   ]
  },
  {
   "cell_type": "code",
   "execution_count": 14,
   "metadata": {
    "ExecuteTime": {
     "end_time": "2022-09-05T03:37:53.311958Z",
     "start_time": "2022-09-05T03:37:53.169345Z"
    },
    "scrolled": false
   },
   "outputs": [
    {
     "data": {
      "image/png": "[encoded data removed]",
      "text/plain": [
       "<Figure size 720x576 with 1 Axes>"
      ]
     },
     "metadata": {
      "needs_background": "light"
     },
     "output_type": "display_data"
    }
   ],
   "source": [
    "import matplotlib.pyplot as plt\n",
    "plt.rcParams[\"figure.figsize\"] = (10, 8)\n",
    "lgb.plot_importance(initial_model, max_num_features = 10)\n",
    "plt.show()"
   ]
  },
  {
   "cell_type": "markdown",
   "metadata": {},
   "source": [
    "# Feature Selection"
   ]
  },
  {
   "cell_type": "code",
   "execution_count": 15,
   "metadata": {
    "ExecuteTime": {
     "end_time": "2022-09-05T03:37:53.327374Z",
     "start_time": "2022-09-05T03:37:53.312952Z"
    }
   },
   "outputs": [
    {
     "name": "stdout",
     "output_type": "stream",
     "text": [
      "Features with 0 importance: 16\n",
      "Trimmed number of features 60\n"
     ]
    }
   ],
   "source": [
    "unimportant_features = feature_imp[feature_imp['Value'] == 0]['Feature'].tolist()\n",
    "\n",
    "trimmed_features = list(set(initial_features) - set(unimportant_features))\n",
    "\n",
    "print(\"Features with 0 importance: {}\".format(len(unimportant_features)))\n",
    "print(\"Trimmed number of features {}\".format(len(trimmed_features)))"
   ]
  },
  {
   "cell_type": "code",
   "execution_count": 16,
   "metadata": {
    "ExecuteTime": {
     "end_time": "2022-09-05T03:37:55.769162Z",
     "start_time": "2022-09-05T03:37:53.328375Z"
    }
   },
   "outputs": [
    {
     "name": "stdout",
     "output_type": "stream",
     "text": [
      "[LightGBM] [Warning] Auto-choosing col-wise multi-threading, the overhead of testing was 0.001634 seconds.\n",
      "You can set `force_col_wise=true` to remove the overhead.\n",
      "[LightGBM] [Info] Total Bins 3100\n",
      "[LightGBM] [Info] Number of data points in the train set: 8828, number of used features: 60\n",
      "[LightGBM] [Warning] Auto-choosing row-wise multi-threading, the overhead of testing was 0.001428 seconds.\n",
      "You can set `force_row_wise=true` to remove the overhead.\n",
      "And if memory is not enough, you can set `force_col_wise=true`.\n",
      "[LightGBM] [Info] Total Bins 3100\n",
      "[LightGBM] [Info] Number of data points in the train set: 8829, number of used features: 60\n",
      "[LightGBM] [Warning] Auto-choosing col-wise multi-threading, the overhead of testing was 0.001953 seconds.\n",
      "You can set `force_col_wise=true` to remove the overhead.\n",
      "[LightGBM] [Info] Total Bins 3100\n",
      "[LightGBM] [Info] Number of data points in the train set: 8829, number of used features: 60\n",
      "[LightGBM] [Warning] Auto-choosing col-wise multi-threading, the overhead of testing was 0.001683 seconds.\n",
      "You can set `force_col_wise=true` to remove the overhead.\n",
      "[LightGBM] [Info] Total Bins 3100\n",
      "[LightGBM] [Info] Number of data points in the train set: 8829, number of used features: 60\n",
      "[LightGBM] [Warning] Auto-choosing col-wise multi-threading, the overhead of testing was 0.001917 seconds.\n",
      "You can set `force_col_wise=true` to remove the overhead.\n",
      "[LightGBM] [Info] Total Bins 3100\n",
      "[LightGBM] [Info] Number of data points in the train set: 8829, number of used features: 60\n",
      "[LightGBM] [Info] Start training from score 0.038174\n",
      "[LightGBM] [Info] Start training from score 0.038283\n",
      "[LightGBM] [Info] Start training from score 0.038283\n",
      "[LightGBM] [Info] Start training from score 0.038283\n",
      "[LightGBM] [Info] Start training from score 0.038170\n",
      "Training until validation scores don't improve for 200 rounds\n",
      "Early stopping, best iteration is:\n",
      "[28]\tcv_agg's auc: 0.685585 + 0.0297119\n",
      "The maximum validation ROC AUC was: 0.68559 with a standard deviation of 0.02971.\n",
      "The optimal number of boosting rounds (estimators) was 28.\n",
      "The baseline model scores 0.63310 ROC AUC on the test set.\n"
     ]
    },
    {
     "data": {
      "image/png": "[encoded data removed]",
      "text/plain": [
       "<Figure size 1440x720 with 1 Axes>"
      ]
     },
     "metadata": {
      "needs_background": "light"
     },
     "output_type": "display_data"
    }
   ],
   "source": [
    "trimmed_model, trimmed_cv_results, _ = fit_lightgbm(trimmed_features, plot_importance = True)\n",
    "n_estimators = len(trimmed_cv_results['auc-mean'])"
   ]
  },
  {
   "cell_type": "markdown",
   "metadata": {},
   "source": [
    "# Hyperparameter Tuning"
   ]
  },
  {
   "cell_type": "code",
   "execution_count": 17,
   "metadata": {
    "ExecuteTime": {
     "end_time": "2022-09-05T03:37:55.785160Z",
     "start_time": "2022-09-05T03:37:55.770190Z"
    }
   },
   "outputs": [],
   "source": [
    "# Hyperparameter grid\n",
    "param_grid = {\n",
    "    'num_leaves': list(range(5, 25)),\n",
    "    'learning_rate': list(np.logspace(np.log10(0.005), np.log10(0.2), base = 10, num = 10)),\n",
    "#     'min_child_samples': list(range(20, 500, 5)),\n",
    "    'reg_alpha': list(np.linspace(0, 1)),\n",
    "    'reg_lambda': list(np.linspace(0, 1)),\n",
    "    'colsample_bytree': list(np.linspace(0.6, 1, 10)),\n",
    "    'subsample': list(np.linspace(0.5, 1, 10)),\n",
    "    'is_unbalance': [True, False]\n",
    "}"
   ]
  },
  {
   "cell_type": "code",
   "execution_count": 18,
   "metadata": {
    "ExecuteTime": {
     "end_time": "2022-09-05T03:38:07.109318Z",
     "start_time": "2022-09-05T03:37:55.786158Z"
    },
    "scrolled": true
   },
   "outputs": [
    {
     "data": {
      "application/vnd.jupyter.widget-view+json": {
       "model_id": "331543af0fb4430eb30a64f0a6ba27d0",
       "version_major": 2,
       "version_minor": 0
      },
      "text/plain": [
       "  0%|          | 0/30 [00:00<?, ?it/s]"
      ]
     },
     "metadata": {},
     "output_type": "display_data"
    },
    {
     "name": "stderr",
     "output_type": "stream",
     "text": [
      "Found `n_estimators` in params. Will use it instead of argument\n"
     ]
    },
    {
     "name": "stdout",
     "output_type": "stream",
     "text": [
      "[LightGBM] [Warning] Auto-choosing col-wise multi-threading, the overhead of testing was 0.002451 seconds.\n",
      "You can set `force_col_wise=true` to remove the overhead.\n",
      "[LightGBM] [Info] Total Bins 3100\n",
      "[LightGBM] [Info] Number of data points in the train set: 8828, number of used features: 60\n",
      "[LightGBM] [Warning] Auto-choosing row-wise multi-threading, the overhead of testing was 0.001520 seconds.\n",
      "You can set `force_row_wise=true` to remove the overhead.\n",
      "And if memory is not enough, you can set `force_col_wise=true`.\n",
      "[LightGBM] [Info] Total Bins 3100\n",
      "[LightGBM] [Info] Number of data points in the train set: 8829, number of used features: 60\n",
      "[LightGBM] [Warning] Auto-choosing col-wise multi-threading, the overhead of testing was 0.002499 seconds.\n",
      "You can set `force_col_wise=true` to remove the overhead.\n",
      "[LightGBM] [Info] Total Bins 3100\n",
      "[LightGBM] [Info] Number of data points in the train set: 8829, number of used features: 60\n",
      "[LightGBM] [Warning] Auto-choosing row-wise multi-threading, the overhead of testing was 0.001189 seconds.\n",
      "You can set `force_row_wise=true` to remove the overhead.\n",
      "And if memory is not enough, you can set `force_col_wise=true`.\n",
      "[LightGBM] [Info] Total Bins 3100\n",
      "[LightGBM] [Info] Number of data points in the train set: 8829, number of used features: 60\n",
      "[LightGBM] [Warning] Auto-choosing row-wise multi-threading, the overhead of testing was 0.000938 seconds.\n",
      "You can set `force_row_wise=true` to remove the overhead.\n",
      "And if memory is not enough, you can set `force_col_wise=true`.\n",
      "[LightGBM] [Info] Total Bins 3100\n",
      "[LightGBM] [Info] Number of data points in the train set: 8829, number of used features: 60\n",
      "[LightGBM] [Info] Start training from score 0.038174\n",
      "[LightGBM] [Info] Start training from score 0.038283\n",
      "[LightGBM] [Info] Start training from score 0.038283\n",
      "[LightGBM] [Info] Start training from score 0.038283\n",
      "[LightGBM] [Info] Start training from score 0.038170\n"
     ]
    },
    {
     "name": "stderr",
     "output_type": "stream",
     "text": [
      "Found `n_estimators` in params. Will use it instead of argument\n"
     ]
    },
    {
     "name": "stdout",
     "output_type": "stream",
     "text": [
      "[LightGBM] [Warning] Auto-choosing col-wise multi-threading, the overhead of testing was 0.001792 seconds.\n",
      "You can set `force_col_wise=true` to remove the overhead.\n",
      "[LightGBM] [Info] Total Bins 3100\n",
      "[LightGBM] [Info] Number of data points in the train set: 8828, number of used features: 60\n",
      "[LightGBM] [Warning] Auto-choosing row-wise multi-threading, the overhead of testing was 0.000752 seconds.\n",
      "You can set `force_row_wise=true` to remove the overhead.\n",
      "And if memory is not enough, you can set `force_col_wise=true`.\n",
      "[LightGBM] [Info] Total Bins 3100\n",
      "[LightGBM] [Info] Number of data points in the train set: 8829, number of used features: 60\n",
      "[LightGBM] [Warning] Auto-choosing col-wise multi-threading, the overhead of testing was 0.001271 seconds.\n",
      "You can set `force_col_wise=true` to remove the overhead.\n",
      "[LightGBM] [Info] Total Bins 3100\n",
      "[LightGBM] [Info] Number of data points in the train set: 8829, number of used features: 60\n",
      "[LightGBM] [Warning] Auto-choosing col-wise multi-threading, the overhead of testing was 0.001803 seconds.\n",
      "You can set `force_col_wise=true` to remove the overhead.\n",
      "[LightGBM] [Info] Total Bins 3100\n",
      "[LightGBM] [Info] Number of data points in the train set: 8829, number of used features: 60\n",
      "[LightGBM] [Warning] Auto-choosing row-wise multi-threading, the overhead of testing was 0.000792 seconds.\n",
      "You can set `force_row_wise=true` to remove the overhead.\n",
      "And if memory is not enough, you can set `force_col_wise=true`.\n",
      "[LightGBM] [Info] Total Bins 3100\n",
      "[LightGBM] [Info] Number of data points in the train set: 8829, number of used features: 60\n",
      "[LightGBM] [Info] Start training from score 0.038174\n",
      "[LightGBM] [Info] Start training from score 0.038283\n",
      "[LightGBM] [Info] Start training from score 0.038283\n",
      "[LightGBM] [Info] Start training from score 0.038283\n",
      "[LightGBM] [Info] Start training from score 0.038170\n"
     ]
    },
    {
     "name": "stderr",
     "output_type": "stream",
     "text": [
      "Found `n_estimators` in params. Will use it instead of argument\n"
     ]
    },
    {
     "name": "stdout",
     "output_type": "stream",
     "text": [
      "[LightGBM] [Warning] Auto-choosing row-wise multi-threading, the overhead of testing was 0.000944 seconds.\n",
      "You can set `force_row_wise=true` to remove the overhead.\n",
      "And if memory is not enough, you can set `force_col_wise=true`.\n",
      "[LightGBM] [Info] Total Bins 3100\n",
      "[LightGBM] [Info] Number of data points in the train set: 8828, number of used features: 60\n",
      "[LightGBM] [Warning] Auto-choosing col-wise multi-threading, the overhead of testing was 0.001799 seconds.\n",
      "You can set `force_col_wise=true` to remove the overhead.\n",
      "[LightGBM] [Info] Total Bins 3100\n",
      "[LightGBM] [Info] Number of data points in the train set: 8829, number of used features: 60\n",
      "[LightGBM] [Warning] Auto-choosing row-wise multi-threading, the overhead of testing was 0.000787 seconds.\n",
      "You can set `force_row_wise=true` to remove the overhead.\n",
      "And if memory is not enough, you can set `force_col_wise=true`.\n",
      "[LightGBM] [Info] Total Bins 3100\n",
      "[LightGBM] [Info] Number of data points in the train set: 8829, number of used features: 60\n",
      "[LightGBM] [Warning] Auto-choosing col-wise multi-threading, the overhead of testing was 0.001364 seconds.\n",
      "You can set `force_col_wise=true` to remove the overhead.\n",
      "[LightGBM] [Info] Total Bins 3100\n",
      "[LightGBM] [Info] Number of data points in the train set: 8829, number of used features: 60\n",
      "[LightGBM] [Warning] Auto-choosing row-wise multi-threading, the overhead of testing was 0.000760 seconds.\n",
      "You can set `force_row_wise=true` to remove the overhead.\n",
      "And if memory is not enough, you can set `force_col_wise=true`.\n",
      "[LightGBM] [Info] Total Bins 3100\n",
      "[LightGBM] [Info] Number of data points in the train set: 8829, number of used features: 60\n",
      "[LightGBM] [Info] Start training from score 0.038174\n",
      "[LightGBM] [Info] Start training from score 0.038283\n",
      "[LightGBM] [Info] Start training from score 0.038283\n",
      "[LightGBM] [Info] Start training from score 0.038283\n",
      "[LightGBM] [Info] Start training from score 0.038170\n"
     ]
    },
    {
     "name": "stderr",
     "output_type": "stream",
     "text": [
      "Found `n_estimators` in params. Will use it instead of argument\n"
     ]
    },
    {
     "name": "stdout",
     "output_type": "stream",
     "text": [
      "[LightGBM] [Warning] Auto-choosing row-wise multi-threading, the overhead of testing was 0.000738 seconds.\n",
      "You can set `force_row_wise=true` to remove the overhead.\n",
      "And if memory is not enough, you can set `force_col_wise=true`.\n",
      "[LightGBM] [Info] Total Bins 3100\n",
      "[LightGBM] [Info] Number of data points in the train set: 8828, number of used features: 60\n",
      "[LightGBM] [Warning] Auto-choosing col-wise multi-threading, the overhead of testing was 0.001931 seconds.\n",
      "You can set `force_col_wise=true` to remove the overhead.\n",
      "[LightGBM] [Info] Total Bins 3100\n",
      "[LightGBM] [Info] Number of data points in the train set: 8829, number of used features: 60\n",
      "[LightGBM] [Warning] Auto-choosing row-wise multi-threading, the overhead of testing was 0.001185 seconds.\n",
      "You can set `force_row_wise=true` to remove the overhead.\n",
      "And if memory is not enough, you can set `force_col_wise=true`.\n",
      "[LightGBM] [Info] Total Bins 3100\n",
      "[LightGBM] [Info] Number of data points in the train set: 8829, number of used features: 60\n",
      "[LightGBM] [Warning] Auto-choosing row-wise multi-threading, the overhead of testing was 0.001222 seconds.\n",
      "You can set `force_row_wise=true` to remove the overhead.\n",
      "And if memory is not enough, you can set `force_col_wise=true`.\n",
      "[LightGBM] [Info] Total Bins 3100\n",
      "[LightGBM] [Info] Number of data points in the train set: 8829, number of used features: 60\n",
      "[LightGBM] [Warning] Auto-choosing col-wise multi-threading, the overhead of testing was 0.002018 seconds.\n",
      "You can set `force_col_wise=true` to remove the overhead.\n",
      "[LightGBM] [Info] Total Bins 3100\n",
      "[LightGBM] [Info] Number of data points in the train set: 8829, number of used features: 60\n",
      "[LightGBM] [Info] Start training from score 0.038174\n",
      "[LightGBM] [Info] Start training from score 0.038283\n",
      "[LightGBM] [Info] Start training from score 0.038283\n",
      "[LightGBM] [Info] Start training from score 0.038283\n",
      "[LightGBM] [Info] Start training from score 0.038170\n"
     ]
    },
    {
     "name": "stderr",
     "output_type": "stream",
     "text": [
      "Found `n_estimators` in params. Will use it instead of argument\n"
     ]
    },
    {
     "name": "stdout",
     "output_type": "stream",
     "text": [
      "[LightGBM] [Warning] Auto-choosing row-wise multi-threading, the overhead of testing was 0.000896 seconds.\n",
      "You can set `force_row_wise=true` to remove the overhead.\n",
      "And if memory is not enough, you can set `force_col_wise=true`.\n",
      "[LightGBM] [Info] Total Bins 3100\n",
      "[LightGBM] [Info] Number of data points in the train set: 8828, number of used features: 60\n",
      "[LightGBM] [Warning] Auto-choosing row-wise multi-threading, the overhead of testing was 0.000807 seconds.\n",
      "You can set `force_row_wise=true` to remove the overhead.\n",
      "And if memory is not enough, you can set `force_col_wise=true`.\n",
      "[LightGBM] [Info] Total Bins 3100\n",
      "[LightGBM] [Info] Number of data points in the train set: 8829, number of used features: 60\n",
      "[LightGBM] [Warning] Auto-choosing col-wise multi-threading, the overhead of testing was 0.001733 seconds.\n",
      "You can set `force_col_wise=true` to remove the overhead.\n",
      "[LightGBM] [Info] Total Bins 3100\n",
      "[LightGBM] [Info] Number of data points in the train set: 8829, number of used features: 60\n",
      "[LightGBM] [Warning] Auto-choosing col-wise multi-threading, the overhead of testing was 0.001854 seconds.\n",
      "You can set `force_col_wise=true` to remove the overhead.\n",
      "[LightGBM] [Info] Total Bins 3100\n",
      "[LightGBM] [Info] Number of data points in the train set: 8829, number of used features: 60\n",
      "[LightGBM] [Warning] Auto-choosing row-wise multi-threading, the overhead of testing was 0.001236 seconds.\n",
      "You can set `force_row_wise=true` to remove the overhead.\n",
      "And if memory is not enough, you can set `force_col_wise=true`.\n",
      "[LightGBM] [Info] Total Bins 3100\n",
      "[LightGBM] [Info] Number of data points in the train set: 8829, number of used features: 60\n",
      "[LightGBM] [Info] Start training from score 0.038174\n",
      "[LightGBM] [Info] Start training from score 0.038283\n",
      "[LightGBM] [Info] Start training from score 0.038283\n",
      "[LightGBM] [Info] Start training from score 0.038283\n",
      "[LightGBM] [Info] Start training from score 0.038170\n"
     ]
    },
    {
     "name": "stderr",
     "output_type": "stream",
     "text": [
      "Found `n_estimators` in params. Will use it instead of argument\n"
     ]
    },
    {
     "name": "stdout",
     "output_type": "stream",
     "text": [
      "[LightGBM] [Warning] Auto-choosing col-wise multi-threading, the overhead of testing was 0.001401 seconds.\n",
      "You can set `force_col_wise=true` to remove the overhead.\n",
      "[LightGBM] [Info] Total Bins 3100\n",
      "[LightGBM] [Info] Number of data points in the train set: 8828, number of used features: 60\n",
      "[LightGBM] [Warning] Auto-choosing row-wise multi-threading, the overhead of testing was 0.000909 seconds.\n",
      "You can set `force_row_wise=true` to remove the overhead.\n",
      "And if memory is not enough, you can set `force_col_wise=true`.\n",
      "[LightGBM] [Info] Total Bins 3100\n",
      "[LightGBM] [Info] Number of data points in the train set: 8829, number of used features: 60\n",
      "[LightGBM] [Warning] Auto-choosing col-wise multi-threading, the overhead of testing was 0.001571 seconds.\n",
      "You can set `force_col_wise=true` to remove the overhead.\n",
      "[LightGBM] [Info] Total Bins 3100\n",
      "[LightGBM] [Info] Number of data points in the train set: 8829, number of used features: 60\n",
      "[LightGBM] [Warning] Auto-choosing row-wise multi-threading, the overhead of testing was 0.001273 seconds.\n",
      "You can set `force_row_wise=true` to remove the overhead.\n",
      "And if memory is not enough, you can set `force_col_wise=true`.\n",
      "[LightGBM] [Info] Total Bins 3100\n",
      "[LightGBM] [Info] Number of data points in the train set: 8829, number of used features: 60\n",
      "[LightGBM] [Warning] Auto-choosing row-wise multi-threading, the overhead of testing was 0.001378 seconds.\n",
      "You can set `force_row_wise=true` to remove the overhead.\n",
      "And if memory is not enough, you can set `force_col_wise=true`.\n",
      "[LightGBM] [Info] Total Bins 3100\n",
      "[LightGBM] [Info] Number of data points in the train set: 8829, number of used features: 60\n",
      "[LightGBM] [Info] Start training from score 0.038174\n",
      "[LightGBM] [Info] Start training from score 0.038283\n",
      "[LightGBM] [Info] Start training from score 0.038283\n",
      "[LightGBM] [Info] Start training from score 0.038283\n",
      "[LightGBM] [Info] Start training from score 0.038170\n"
     ]
    },
    {
     "name": "stderr",
     "output_type": "stream",
     "text": [
      "Found `n_estimators` in params. Will use it instead of argument\n"
     ]
    },
    {
     "name": "stdout",
     "output_type": "stream",
     "text": [
      "[LightGBM] [Warning] Auto-choosing col-wise multi-threading, the overhead of testing was 0.002108 seconds.\n",
      "You can set `force_col_wise=true` to remove the overhead.\n",
      "[LightGBM] [Info] Total Bins 3100\n",
      "[LightGBM] [Info] Number of data points in the train set: 8828, number of used features: 60\n",
      "[LightGBM] [Warning] Auto-choosing col-wise multi-threading, the overhead of testing was 0.001389 seconds.\n",
      "You can set `force_col_wise=true` to remove the overhead.\n",
      "[LightGBM] [Info] Total Bins 3100\n",
      "[LightGBM] [Info] Number of data points in the train set: 8829, number of used features: 60\n",
      "[LightGBM] [Warning] Auto-choosing row-wise multi-threading, the overhead of testing was 0.000789 seconds.\n",
      "You can set `force_row_wise=true` to remove the overhead.\n",
      "And if memory is not enough, you can set `force_col_wise=true`.\n",
      "[LightGBM] [Info] Total Bins 3100\n",
      "[LightGBM] [Info] Number of data points in the train set: 8829, number of used features: 60\n",
      "[LightGBM] [Warning] Auto-choosing col-wise multi-threading, the overhead of testing was 0.001621 seconds.\n",
      "You can set `force_col_wise=true` to remove the overhead.\n",
      "[LightGBM] [Info] Total Bins 3100\n",
      "[LightGBM] [Info] Number of data points in the train set: 8829, number of used features: 60\n",
      "[LightGBM] [Warning] Auto-choosing row-wise multi-threading, the overhead of testing was 0.000782 seconds.\n",
      "You can set `force_row_wise=true` to remove the overhead.\n",
      "And if memory is not enough, you can set `force_col_wise=true`.\n",
      "[LightGBM] [Info] Total Bins 3100\n",
      "[LightGBM] [Info] Number of data points in the train set: 8829, number of used features: 60\n",
      "[LightGBM] [Info] Start training from score 0.038174\n",
      "[LightGBM] [Info] Start training from score 0.038283\n",
      "[LightGBM] [Info] Start training from score 0.038283\n",
      "[LightGBM] [Info] Start training from score 0.038283\n",
      "[LightGBM] [Info] Start training from score 0.038170\n"
     ]
    },
    {
     "name": "stderr",
     "output_type": "stream",
     "text": [
      "Found `n_estimators` in params. Will use it instead of argument\n"
     ]
    },
    {
     "name": "stdout",
     "output_type": "stream",
     "text": [
      "[LightGBM] [Warning] Auto-choosing row-wise multi-threading, the overhead of testing was 0.000729 seconds.\n",
      "You can set `force_row_wise=true` to remove the overhead.\n",
      "And if memory is not enough, you can set `force_col_wise=true`.\n",
      "[LightGBM] [Info] Total Bins 3100\n",
      "[LightGBM] [Info] Number of data points in the train set: 8828, number of used features: 60\n",
      "[LightGBM] [Warning] Auto-choosing col-wise multi-threading, the overhead of testing was 0.001450 seconds.\n",
      "You can set `force_col_wise=true` to remove the overhead.\n",
      "[LightGBM] [Info] Total Bins 3100\n",
      "[LightGBM] [Info] Number of data points in the train set: 8829, number of used features: 60\n",
      "[LightGBM] [Warning] Auto-choosing col-wise multi-threading, the overhead of testing was 0.001330 seconds.\n",
      "You can set `force_col_wise=true` to remove the overhead.\n",
      "[LightGBM] [Info] Total Bins 3100\n",
      "[LightGBM] [Info] Number of data points in the train set: 8829, number of used features: 60\n",
      "[LightGBM] [Warning] Auto-choosing row-wise multi-threading, the overhead of testing was 0.000838 seconds.\n",
      "You can set `force_row_wise=true` to remove the overhead.\n",
      "And if memory is not enough, you can set `force_col_wise=true`.\n",
      "[LightGBM] [Info] Total Bins 3100\n",
      "[LightGBM] [Info] Number of data points in the train set: 8829, number of used features: 60\n",
      "[LightGBM] [Warning] Auto-choosing col-wise multi-threading, the overhead of testing was 0.001170 seconds.\n",
      "You can set `force_col_wise=true` to remove the overhead.\n",
      "[LightGBM] [Info] Total Bins 3100\n",
      "[LightGBM] [Info] Number of data points in the train set: 8829, number of used features: 60\n",
      "[LightGBM] [Info] Start training from score 0.038174\n",
      "[LightGBM] [Info] Start training from score 0.038283\n",
      "[LightGBM] [Info] Start training from score 0.038283\n",
      "[LightGBM] [Info] Start training from score 0.038283\n",
      "[LightGBM] [Info] Start training from score 0.038170\n"
     ]
    },
    {
     "name": "stderr",
     "output_type": "stream",
     "text": [
      "Found `n_estimators` in params. Will use it instead of argument\n"
     ]
    },
    {
     "name": "stdout",
     "output_type": "stream",
     "text": [
      "[LightGBM] [Warning] Auto-choosing row-wise multi-threading, the overhead of testing was 0.000774 seconds.\n",
      "You can set `force_row_wise=true` to remove the overhead.\n",
      "And if memory is not enough, you can set `force_col_wise=true`.\n",
      "[LightGBM] [Info] Total Bins 3100\n",
      "[LightGBM] [Info] Number of data points in the train set: 8828, number of used features: 60\n",
      "[LightGBM] [Warning] Auto-choosing row-wise multi-threading, the overhead of testing was 0.001401 seconds.\n",
      "You can set `force_row_wise=true` to remove the overhead.\n",
      "And if memory is not enough, you can set `force_col_wise=true`.\n",
      "[LightGBM] [Info] Total Bins 3100\n",
      "[LightGBM] [Info] Number of data points in the train set: 8829, number of used features: 60\n",
      "[LightGBM] [Warning] Auto-choosing col-wise multi-threading, the overhead of testing was 0.001741 seconds.\n",
      "You can set `force_col_wise=true` to remove the overhead.\n",
      "[LightGBM] [Info] Total Bins 3100\n",
      "[LightGBM] [Info] Number of data points in the train set: 8829, number of used features: 60\n",
      "[LightGBM] [Warning] Auto-choosing row-wise multi-threading, the overhead of testing was 0.000841 seconds.\n",
      "You can set `force_row_wise=true` to remove the overhead.\n",
      "And if memory is not enough, you can set `force_col_wise=true`.\n",
      "[LightGBM] [Info] Total Bins 3100\n",
      "[LightGBM] [Info] Number of data points in the train set: 8829, number of used features: 60\n",
      "[LightGBM] [Warning] Auto-choosing row-wise multi-threading, the overhead of testing was 0.000877 seconds.\n",
      "You can set `force_row_wise=true` to remove the overhead.\n",
      "And if memory is not enough, you can set `force_col_wise=true`.\n",
      "[LightGBM] [Info] Total Bins 3100\n",
      "[LightGBM] [Info] Number of data points in the train set: 8829, number of used features: 60\n",
      "[LightGBM] [Info] Start training from score 0.038174\n",
      "[LightGBM] [Info] Start training from score 0.038283\n",
      "[LightGBM] [Info] Start training from score 0.038283\n",
      "[LightGBM] [Info] Start training from score 0.038283\n",
      "[LightGBM] [Info] Start training from score 0.038170\n"
     ]
    },
    {
     "name": "stderr",
     "output_type": "stream",
     "text": [
      "Found `n_estimators` in params. Will use it instead of argument\n"
     ]
    },
    {
     "name": "stdout",
     "output_type": "stream",
     "text": [
      "[LightGBM] [Warning] Auto-choosing col-wise multi-threading, the overhead of testing was 0.001928 seconds.\n",
      "You can set `force_col_wise=true` to remove the overhead.\n",
      "[LightGBM] [Info] Total Bins 3100\n",
      "[LightGBM] [Info] Number of data points in the train set: 8828, number of used features: 60\n",
      "[LightGBM] [Warning] Auto-choosing row-wise multi-threading, the overhead of testing was 0.000768 seconds.\n",
      "You can set `force_row_wise=true` to remove the overhead.\n",
      "And if memory is not enough, you can set `force_col_wise=true`.\n",
      "[LightGBM] [Info] Total Bins 3100\n",
      "[LightGBM] [Info] Number of data points in the train set: 8829, number of used features: 60\n",
      "[LightGBM] [Warning] Auto-choosing col-wise multi-threading, the overhead of testing was 0.002145 seconds.\n",
      "You can set `force_col_wise=true` to remove the overhead.\n",
      "[LightGBM] [Info] Total Bins 3100\n",
      "[LightGBM] [Info] Number of data points in the train set: 8829, number of used features: 60\n",
      "[LightGBM] [Warning] Auto-choosing row-wise multi-threading, the overhead of testing was 0.001031 seconds.\n",
      "You can set `force_row_wise=true` to remove the overhead.\n",
      "And if memory is not enough, you can set `force_col_wise=true`.\n",
      "[LightGBM] [Info] Total Bins 3100\n",
      "[LightGBM] [Info] Number of data points in the train set: 8829, number of used features: 60\n",
      "[LightGBM] [Warning] Auto-choosing row-wise multi-threading, the overhead of testing was 0.002617 seconds.\n",
      "You can set `force_row_wise=true` to remove the overhead.\n",
      "And if memory is not enough, you can set `force_col_wise=true`.\n",
      "[LightGBM] [Info] Total Bins 3100\n",
      "[LightGBM] [Info] Number of data points in the train set: 8829, number of used features: 60\n",
      "[LightGBM] [Info] Start training from score 0.038174\n",
      "[LightGBM] [Info] Start training from score 0.038283\n",
      "[LightGBM] [Info] Start training from score 0.038283\n",
      "[LightGBM] [Info] Start training from score 0.038283\n",
      "[LightGBM] [Info] Start training from score 0.038170\n"
     ]
    },
    {
     "name": "stderr",
     "output_type": "stream",
     "text": [
      "Found `n_estimators` in params. Will use it instead of argument\n"
     ]
    },
    {
     "name": "stdout",
     "output_type": "stream",
     "text": [
      "[LightGBM] [Warning] Auto-choosing col-wise multi-threading, the overhead of testing was 0.001346 seconds.\n",
      "You can set `force_col_wise=true` to remove the overhead.\n",
      "[LightGBM] [Info] Total Bins 3100\n",
      "[LightGBM] [Info] Number of data points in the train set: 8828, number of used features: 60\n",
      "[LightGBM] [Warning] Auto-choosing row-wise multi-threading, the overhead of testing was 0.000925 seconds.\n",
      "You can set `force_row_wise=true` to remove the overhead.\n",
      "And if memory is not enough, you can set `force_col_wise=true`.\n",
      "[LightGBM] [Info] Total Bins 3100\n",
      "[LightGBM] [Info] Number of data points in the train set: 8829, number of used features: 60\n",
      "[LightGBM] [Warning] Auto-choosing col-wise multi-threading, the overhead of testing was 0.001683 seconds.\n",
      "You can set `force_col_wise=true` to remove the overhead.\n",
      "[LightGBM] [Info] Total Bins 3100\n",
      "[LightGBM] [Info] Number of data points in the train set: 8829, number of used features: 60\n",
      "[LightGBM] [Warning] Auto-choosing row-wise multi-threading, the overhead of testing was 0.001115 seconds.\n",
      "You can set `force_row_wise=true` to remove the overhead.\n",
      "And if memory is not enough, you can set `force_col_wise=true`.\n",
      "[LightGBM] [Info] Total Bins 3100\n",
      "[LightGBM] [Info] Number of data points in the train set: 8829, number of used features: 60\n",
      "[LightGBM] [Warning] Auto-choosing col-wise multi-threading, the overhead of testing was 0.001833 seconds.\n",
      "You can set `force_col_wise=true` to remove the overhead.\n",
      "[LightGBM] [Info] Total Bins 3100\n",
      "[LightGBM] [Info] Number of data points in the train set: 8829, number of used features: 60\n",
      "[LightGBM] [Info] Start training from score 0.038174\n",
      "[LightGBM] [Info] Start training from score 0.038283\n",
      "[LightGBM] [Info] Start training from score 0.038283\n",
      "[LightGBM] [Info] Start training from score 0.038283\n",
      "[LightGBM] [Info] Start training from score 0.038170\n"
     ]
    },
    {
     "name": "stderr",
     "output_type": "stream",
     "text": [
      "Found `n_estimators` in params. Will use it instead of argument\n"
     ]
    },
    {
     "name": "stdout",
     "output_type": "stream",
     "text": [
      "[LightGBM] [Warning] Auto-choosing row-wise multi-threading, the overhead of testing was 0.000811 seconds.\n",
      "You can set `force_row_wise=true` to remove the overhead.\n",
      "And if memory is not enough, you can set `force_col_wise=true`.\n",
      "[LightGBM] [Info] Total Bins 3100\n",
      "[LightGBM] [Info] Number of data points in the train set: 8828, number of used features: 60\n",
      "[LightGBM] [Warning] Auto-choosing col-wise multi-threading, the overhead of testing was 0.001926 seconds.\n",
      "You can set `force_col_wise=true` to remove the overhead.\n",
      "[LightGBM] [Info] Total Bins 3100\n",
      "[LightGBM] [Info] Number of data points in the train set: 8829, number of used features: 60\n",
      "[LightGBM] [Warning] Auto-choosing row-wise multi-threading, the overhead of testing was 0.000958 seconds.\n",
      "You can set `force_row_wise=true` to remove the overhead.\n",
      "And if memory is not enough, you can set `force_col_wise=true`.\n",
      "[LightGBM] [Info] Total Bins 3100\n",
      "[LightGBM] [Info] Number of data points in the train set: 8829, number of used features: 60\n",
      "[LightGBM] [Warning] Auto-choosing col-wise multi-threading, the overhead of testing was 0.001365 seconds.\n",
      "You can set `force_col_wise=true` to remove the overhead.\n",
      "[LightGBM] [Info] Total Bins 3100\n",
      "[LightGBM] [Info] Number of data points in the train set: 8829, number of used features: 60\n",
      "[LightGBM] [Warning] Auto-choosing row-wise multi-threading, the overhead of testing was 0.001139 seconds.\n",
      "You can set `force_row_wise=true` to remove the overhead.\n",
      "And if memory is not enough, you can set `force_col_wise=true`.\n",
      "[LightGBM] [Info] Total Bins 3100\n",
      "[LightGBM] [Info] Number of data points in the train set: 8829, number of used features: 60\n",
      "[LightGBM] [Info] Start training from score 0.038174\n",
      "[LightGBM] [Info] Start training from score 0.038283\n",
      "[LightGBM] [Info] Start training from score 0.038283\n",
      "[LightGBM] [Info] Start training from score 0.038283\n",
      "[LightGBM] [Info] Start training from score 0.038170\n"
     ]
    },
    {
     "name": "stderr",
     "output_type": "stream",
     "text": [
      "Found `n_estimators` in params. Will use it instead of argument\n"
     ]
    },
    {
     "name": "stdout",
     "output_type": "stream",
     "text": [
      "[LightGBM] [Warning] Auto-choosing row-wise multi-threading, the overhead of testing was 0.001266 seconds.\n",
      "You can set `force_row_wise=true` to remove the overhead.\n",
      "And if memory is not enough, you can set `force_col_wise=true`.\n",
      "[LightGBM] [Info] Total Bins 3100\n",
      "[LightGBM] [Info] Number of data points in the train set: 8828, number of used features: 60\n",
      "[LightGBM] [Warning] Auto-choosing row-wise multi-threading, the overhead of testing was 0.000730 seconds.\n",
      "You can set `force_row_wise=true` to remove the overhead.\n",
      "And if memory is not enough, you can set `force_col_wise=true`.\n",
      "[LightGBM] [Info] Total Bins 3100\n",
      "[LightGBM] [Info] Number of data points in the train set: 8829, number of used features: 60\n",
      "[LightGBM] [Warning] Auto-choosing col-wise multi-threading, the overhead of testing was 0.001514 seconds.\n",
      "You can set `force_col_wise=true` to remove the overhead.\n",
      "[LightGBM] [Info] Total Bins 3100\n",
      "[LightGBM] [Info] Number of data points in the train set: 8829, number of used features: 60\n",
      "[LightGBM] [Warning] Auto-choosing row-wise multi-threading, the overhead of testing was 0.001022 seconds.\n",
      "You can set `force_row_wise=true` to remove the overhead.\n",
      "And if memory is not enough, you can set `force_col_wise=true`.\n",
      "[LightGBM] [Info] Total Bins 3100\n",
      "[LightGBM] [Info] Number of data points in the train set: 8829, number of used features: 60\n",
      "[LightGBM] [Warning] Auto-choosing col-wise multi-threading, the overhead of testing was 0.001537 seconds.\n",
      "You can set `force_col_wise=true` to remove the overhead.\n",
      "[LightGBM] [Info] Total Bins 3100\n",
      "[LightGBM] [Info] Number of data points in the train set: 8829, number of used features: 60\n",
      "[LightGBM] [Info] Start training from score 0.038174\n",
      "[LightGBM] [Info] Start training from score 0.038283\n",
      "[LightGBM] [Info] Start training from score 0.038283\n",
      "[LightGBM] [Info] Start training from score 0.038283\n",
      "[LightGBM] [Info] Start training from score 0.038170\n"
     ]
    },
    {
     "name": "stderr",
     "output_type": "stream",
     "text": [
      "Found `n_estimators` in params. Will use it instead of argument\n"
     ]
    },
    {
     "name": "stdout",
     "output_type": "stream",
     "text": [
      "[LightGBM] [Warning] Auto-choosing col-wise multi-threading, the overhead of testing was 0.001706 seconds.\n",
      "You can set `force_col_wise=true` to remove the overhead.\n",
      "[LightGBM] [Info] Total Bins 3100\n",
      "[LightGBM] [Info] Number of data points in the train set: 8828, number of used features: 60\n",
      "[LightGBM] [Warning] Auto-choosing row-wise multi-threading, the overhead of testing was 0.001073 seconds.\n",
      "You can set `force_row_wise=true` to remove the overhead.\n",
      "And if memory is not enough, you can set `force_col_wise=true`.\n",
      "[LightGBM] [Info] Total Bins 3100\n",
      "[LightGBM] [Info] Number of data points in the train set: 8829, number of used features: 60\n",
      "[LightGBM] [Warning] Auto-choosing col-wise multi-threading, the overhead of testing was 0.001577 seconds.\n",
      "You can set `force_col_wise=true` to remove the overhead.\n",
      "[LightGBM] [Info] Total Bins 3100\n",
      "[LightGBM] [Info] Number of data points in the train set: 8829, number of used features: 60\n",
      "[LightGBM] [Warning] Auto-choosing row-wise multi-threading, the overhead of testing was 0.000917 seconds.\n",
      "You can set `force_row_wise=true` to remove the overhead.\n",
      "And if memory is not enough, you can set `force_col_wise=true`.\n",
      "[LightGBM] [Info] Total Bins 3100\n",
      "[LightGBM] [Info] Number of data points in the train set: 8829, number of used features: 60\n",
      "[LightGBM] [Warning] Auto-choosing col-wise multi-threading, the overhead of testing was 0.001343 seconds.\n",
      "You can set `force_col_wise=true` to remove the overhead.\n",
      "[LightGBM] [Info] Total Bins 3100\n",
      "[LightGBM] [Info] Number of data points in the train set: 8829, number of used features: 60\n",
      "[LightGBM] [Info] Start training from score 0.038174\n",
      "[LightGBM] [Info] Start training from score 0.038283\n",
      "[LightGBM] [Info] Start training from score 0.038283\n",
      "[LightGBM] [Info] Start training from score 0.038283\n",
      "[LightGBM] [Info] Start training from score 0.038170\n"
     ]
    },
    {
     "name": "stderr",
     "output_type": "stream",
     "text": [
      "Found `n_estimators` in params. Will use it instead of argument\n"
     ]
    },
    {
     "name": "stdout",
     "output_type": "stream",
     "text": [
      "[LightGBM] [Warning] Auto-choosing row-wise multi-threading, the overhead of testing was 0.001010 seconds.\n",
      "You can set `force_row_wise=true` to remove the overhead.\n",
      "And if memory is not enough, you can set `force_col_wise=true`.\n",
      "[LightGBM] [Info] Total Bins 3100\n",
      "[LightGBM] [Info] Number of data points in the train set: 8828, number of used features: 60\n",
      "[LightGBM] [Warning] Auto-choosing row-wise multi-threading, the overhead of testing was 0.000900 seconds.\n",
      "You can set `force_row_wise=true` to remove the overhead.\n",
      "And if memory is not enough, you can set `force_col_wise=true`.\n",
      "[LightGBM] [Info] Total Bins 3100\n",
      "[LightGBM] [Info] Number of data points in the train set: 8829, number of used features: 60\n",
      "[LightGBM] [Warning] Auto-choosing row-wise multi-threading, the overhead of testing was 0.001122 seconds.\n",
      "You can set `force_row_wise=true` to remove the overhead.\n",
      "And if memory is not enough, you can set `force_col_wise=true`.\n",
      "[LightGBM] [Info] Total Bins 3100\n",
      "[LightGBM] [Info] Number of data points in the train set: 8829, number of used features: 60\n",
      "[LightGBM] [Warning] Auto-choosing row-wise multi-threading, the overhead of testing was 0.000909 seconds.\n",
      "You can set `force_row_wise=true` to remove the overhead.\n",
      "And if memory is not enough, you can set `force_col_wise=true`.\n",
      "[LightGBM] [Info] Total Bins 3100\n",
      "[LightGBM] [Info] Number of data points in the train set: 8829, number of used features: 60\n",
      "[LightGBM] [Warning] Auto-choosing row-wise multi-threading, the overhead of testing was 0.000994 seconds.\n",
      "You can set `force_row_wise=true` to remove the overhead.\n",
      "And if memory is not enough, you can set `force_col_wise=true`.\n",
      "[LightGBM] [Info] Total Bins 3100\n",
      "[LightGBM] [Info] Number of data points in the train set: 8829, number of used features: 60\n",
      "[LightGBM] [Info] Start training from score 0.038174\n",
      "[LightGBM] [Info] Start training from score 0.038283\n",
      "[LightGBM] [Info] Start training from score 0.038283\n",
      "[LightGBM] [Info] Start training from score 0.038283\n",
      "[LightGBM] [Info] Start training from score 0.038170\n"
     ]
    },
    {
     "name": "stderr",
     "output_type": "stream",
     "text": [
      "Found `n_estimators` in params. Will use it instead of argument\n"
     ]
    },
    {
     "name": "stdout",
     "output_type": "stream",
     "text": [
      "[LightGBM] [Warning] Auto-choosing row-wise multi-threading, the overhead of testing was 0.001363 seconds.\n",
      "You can set `force_row_wise=true` to remove the overhead.\n",
      "And if memory is not enough, you can set `force_col_wise=true`.\n",
      "[LightGBM] [Info] Total Bins 3100\n",
      "[LightGBM] [Info] Number of data points in the train set: 8828, number of used features: 60\n",
      "[LightGBM] [Warning] Auto-choosing col-wise multi-threading, the overhead of testing was 0.001956 seconds.\n",
      "You can set `force_col_wise=true` to remove the overhead.\n",
      "[LightGBM] [Info] Total Bins 3100\n",
      "[LightGBM] [Info] Number of data points in the train set: 8829, number of used features: 60\n",
      "[LightGBM] [Warning] Auto-choosing row-wise multi-threading, the overhead of testing was 0.001095 seconds.\n",
      "You can set `force_row_wise=true` to remove the overhead.\n",
      "And if memory is not enough, you can set `force_col_wise=true`.\n",
      "[LightGBM] [Info] Total Bins 3100\n",
      "[LightGBM] [Info] Number of data points in the train set: 8829, number of used features: 60\n",
      "[LightGBM] [Warning] Auto-choosing col-wise multi-threading, the overhead of testing was 0.002140 seconds.\n",
      "You can set `force_col_wise=true` to remove the overhead.\n",
      "[LightGBM] [Info] Total Bins 3100\n",
      "[LightGBM] [Info] Number of data points in the train set: 8829, number of used features: 60\n",
      "[LightGBM] [Warning] Auto-choosing row-wise multi-threading, the overhead of testing was 0.001143 seconds.\n",
      "You can set `force_row_wise=true` to remove the overhead.\n",
      "And if memory is not enough, you can set `force_col_wise=true`.\n",
      "[LightGBM] [Info] Total Bins 3100\n",
      "[LightGBM] [Info] Number of data points in the train set: 8829, number of used features: 60\n",
      "[LightGBM] [Info] Start training from score 0.038174\n",
      "[LightGBM] [Info] Start training from score 0.038283\n",
      "[LightGBM] [Info] Start training from score 0.038283\n",
      "[LightGBM] [Info] Start training from score 0.038283\n",
      "[LightGBM] [Info] Start training from score 0.038170\n"
     ]
    },
    {
     "name": "stderr",
     "output_type": "stream",
     "text": [
      "Found `n_estimators` in params. Will use it instead of argument\n"
     ]
    },
    {
     "name": "stdout",
     "output_type": "stream",
     "text": [
      "[LightGBM] [Warning] Auto-choosing row-wise multi-threading, the overhead of testing was 0.000818 seconds.\n",
      "You can set `force_row_wise=true` to remove the overhead.\n",
      "And if memory is not enough, you can set `force_col_wise=true`.\n",
      "[LightGBM] [Info] Total Bins 3100\n",
      "[LightGBM] [Info] Number of data points in the train set: 8828, number of used features: 60\n",
      "[LightGBM] [Warning] Auto-choosing col-wise multi-threading, the overhead of testing was 0.001619 seconds.\n",
      "You can set `force_col_wise=true` to remove the overhead.\n",
      "[LightGBM] [Info] Total Bins 3100\n",
      "[LightGBM] [Info] Number of data points in the train set: 8829, number of used features: 60\n",
      "[LightGBM] [Warning] Auto-choosing row-wise multi-threading, the overhead of testing was 0.000814 seconds.\n",
      "You can set `force_row_wise=true` to remove the overhead.\n",
      "And if memory is not enough, you can set `force_col_wise=true`.\n",
      "[LightGBM] [Info] Total Bins 3100\n",
      "[LightGBM] [Info] Number of data points in the train set: 8829, number of used features: 60\n",
      "[LightGBM] [Warning] Auto-choosing row-wise multi-threading, the overhead of testing was 0.000902 seconds.\n",
      "You can set `force_row_wise=true` to remove the overhead.\n",
      "And if memory is not enough, you can set `force_col_wise=true`.\n",
      "[LightGBM] [Info] Total Bins 3100\n",
      "[LightGBM] [Info] Number of data points in the train set: 8829, number of used features: 60\n",
      "[LightGBM] [Warning] Auto-choosing col-wise multi-threading, the overhead of testing was 0.002100 seconds.\n",
      "You can set `force_col_wise=true` to remove the overhead.\n",
      "[LightGBM] [Info] Total Bins 3100\n",
      "[LightGBM] [Info] Number of data points in the train set: 8829, number of used features: 60\n",
      "[LightGBM] [Info] Start training from score 0.038174\n",
      "[LightGBM] [Info] Start training from score 0.038283\n",
      "[LightGBM] [Info] Start training from score 0.038283\n",
      "[LightGBM] [Info] Start training from score 0.038283\n",
      "[LightGBM] [Info] Start training from score 0.038170\n"
     ]
    },
    {
     "name": "stderr",
     "output_type": "stream",
     "text": [
      "Found `n_estimators` in params. Will use it instead of argument\n"
     ]
    },
    {
     "name": "stdout",
     "output_type": "stream",
     "text": [
      "[LightGBM] [Warning] Auto-choosing col-wise multi-threading, the overhead of testing was 0.001447 seconds.\n",
      "You can set `force_col_wise=true` to remove the overhead.\n",
      "[LightGBM] [Info] Total Bins 3100\n",
      "[LightGBM] [Info] Number of data points in the train set: 8828, number of used features: 60\n",
      "[LightGBM] [Warning] Auto-choosing row-wise multi-threading, the overhead of testing was 0.001147 seconds.\n",
      "You can set `force_row_wise=true` to remove the overhead.\n",
      "And if memory is not enough, you can set `force_col_wise=true`.\n",
      "[LightGBM] [Info] Total Bins 3100\n",
      "[LightGBM] [Info] Number of data points in the train set: 8829, number of used features: 60\n",
      "[LightGBM] [Warning] Auto-choosing row-wise multi-threading, the overhead of testing was 0.000799 seconds.\n",
      "You can set `force_row_wise=true` to remove the overhead.\n",
      "And if memory is not enough, you can set `force_col_wise=true`.\n",
      "[LightGBM] [Info] Total Bins 3100\n",
      "[LightGBM] [Info] Number of data points in the train set: 8829, number of used features: 60\n",
      "[LightGBM] [Warning] Auto-choosing row-wise multi-threading, the overhead of testing was 0.000844 seconds.\n",
      "You can set `force_row_wise=true` to remove the overhead.\n",
      "And if memory is not enough, you can set `force_col_wise=true`.\n",
      "[LightGBM] [Info] Total Bins 3100\n",
      "[LightGBM] [Info] Number of data points in the train set: 8829, number of used features: 60\n",
      "[LightGBM] [Warning] Auto-choosing col-wise multi-threading, the overhead of testing was 0.001747 seconds.\n",
      "You can set `force_col_wise=true` to remove the overhead.\n",
      "[LightGBM] [Info] Total Bins 3100\n",
      "[LightGBM] [Info] Number of data points in the train set: 8829, number of used features: 60\n",
      "[LightGBM] [Info] Start training from score 0.038174\n",
      "[LightGBM] [Info] Start training from score 0.038283\n",
      "[LightGBM] [Info] Start training from score 0.038283\n",
      "[LightGBM] [Info] Start training from score 0.038283\n",
      "[LightGBM] [Info] Start training from score 0.038170\n"
     ]
    },
    {
     "name": "stderr",
     "output_type": "stream",
     "text": [
      "Found `n_estimators` in params. Will use it instead of argument\n"
     ]
    },
    {
     "name": "stdout",
     "output_type": "stream",
     "text": [
      "[LightGBM] [Warning] Auto-choosing row-wise multi-threading, the overhead of testing was 0.001079 seconds.\n",
      "You can set `force_row_wise=true` to remove the overhead.\n",
      "And if memory is not enough, you can set `force_col_wise=true`.\n",
      "[LightGBM] [Info] Total Bins 3100\n",
      "[LightGBM] [Info] Number of data points in the train set: 8828, number of used features: 60\n",
      "[LightGBM] [Warning] Auto-choosing row-wise multi-threading, the overhead of testing was 0.000716 seconds.\n",
      "You can set `force_row_wise=true` to remove the overhead.\n",
      "And if memory is not enough, you can set `force_col_wise=true`.\n",
      "[LightGBM] [Info] Total Bins 3100\n",
      "[LightGBM] [Info] Number of data points in the train set: 8829, number of used features: 60\n",
      "[LightGBM] [Warning] Auto-choosing row-wise multi-threading, the overhead of testing was 0.001117 seconds.\n",
      "You can set `force_row_wise=true` to remove the overhead.\n",
      "And if memory is not enough, you can set `force_col_wise=true`.\n",
      "[LightGBM] [Info] Total Bins 3100\n",
      "[LightGBM] [Info] Number of data points in the train set: 8829, number of used features: 60\n",
      "[LightGBM] [Warning] Auto-choosing row-wise multi-threading, the overhead of testing was 0.001084 seconds.\n",
      "You can set `force_row_wise=true` to remove the overhead.\n",
      "And if memory is not enough, you can set `force_col_wise=true`.\n",
      "[LightGBM] [Info] Total Bins 3100\n",
      "[LightGBM] [Info] Number of data points in the train set: 8829, number of used features: 60\n",
      "[LightGBM] [Warning] Auto-choosing row-wise multi-threading, the overhead of testing was 0.000829 seconds.\n",
      "You can set `force_row_wise=true` to remove the overhead.\n",
      "And if memory is not enough, you can set `force_col_wise=true`.\n",
      "[LightGBM] [Info] Total Bins 3100\n",
      "[LightGBM] [Info] Number of data points in the train set: 8829, number of used features: 60\n",
      "[LightGBM] [Info] Start training from score 0.038174\n",
      "[LightGBM] [Info] Start training from score 0.038283\n",
      "[LightGBM] [Info] Start training from score 0.038283\n",
      "[LightGBM] [Info] Start training from score 0.038283\n",
      "[LightGBM] [Info] Start training from score 0.038170\n"
     ]
    },
    {
     "name": "stderr",
     "output_type": "stream",
     "text": [
      "Found `n_estimators` in params. Will use it instead of argument\n"
     ]
    },
    {
     "name": "stdout",
     "output_type": "stream",
     "text": [
      "[LightGBM] [Warning] Auto-choosing col-wise multi-threading, the overhead of testing was 0.001251 seconds.\n",
      "You can set `force_col_wise=true` to remove the overhead.\n",
      "[LightGBM] [Info] Total Bins 3100\n",
      "[LightGBM] [Info] Number of data points in the train set: 8828, number of used features: 60\n",
      "[LightGBM] [Warning] Auto-choosing row-wise multi-threading, the overhead of testing was 0.001144 seconds.\n",
      "You can set `force_row_wise=true` to remove the overhead.\n",
      "And if memory is not enough, you can set `force_col_wise=true`.\n",
      "[LightGBM] [Info] Total Bins 3100\n",
      "[LightGBM] [Info] Number of data points in the train set: 8829, number of used features: 60\n",
      "[LightGBM] [Warning] Auto-choosing col-wise multi-threading, the overhead of testing was 0.001228 seconds.\n",
      "You can set `force_col_wise=true` to remove the overhead.\n",
      "[LightGBM] [Info] Total Bins 3100\n",
      "[LightGBM] [Info] Number of data points in the train set: 8829, number of used features: 60\n",
      "[LightGBM] [Warning] Auto-choosing row-wise multi-threading, the overhead of testing was 0.000739 seconds.\n",
      "You can set `force_row_wise=true` to remove the overhead.\n",
      "And if memory is not enough, you can set `force_col_wise=true`.\n",
      "[LightGBM] [Info] Total Bins 3100\n",
      "[LightGBM] [Info] Number of data points in the train set: 8829, number of used features: 60\n",
      "[LightGBM] [Warning] Auto-choosing row-wise multi-threading, the overhead of testing was 0.001158 seconds.\n",
      "You can set `force_row_wise=true` to remove the overhead.\n",
      "And if memory is not enough, you can set `force_col_wise=true`.\n",
      "[LightGBM] [Info] Total Bins 3100\n",
      "[LightGBM] [Info] Number of data points in the train set: 8829, number of used features: 60\n",
      "[LightGBM] [Info] Start training from score 0.038174\n",
      "[LightGBM] [Info] Start training from score 0.038283\n",
      "[LightGBM] [Info] Start training from score 0.038283\n",
      "[LightGBM] [Info] Start training from score 0.038283\n",
      "[LightGBM] [Info] Start training from score 0.038170\n"
     ]
    },
    {
     "name": "stderr",
     "output_type": "stream",
     "text": [
      "Found `n_estimators` in params. Will use it instead of argument\n"
     ]
    },
    {
     "name": "stdout",
     "output_type": "stream",
     "text": [
      "[LightGBM] [Warning] Auto-choosing col-wise multi-threading, the overhead of testing was 0.001227 seconds.\n",
      "You can set `force_col_wise=true` to remove the overhead.\n",
      "[LightGBM] [Info] Total Bins 3100\n",
      "[LightGBM] [Info] Number of data points in the train set: 8828, number of used features: 60\n",
      "[LightGBM] [Warning] Auto-choosing row-wise multi-threading, the overhead of testing was 0.001081 seconds.\n",
      "You can set `force_row_wise=true` to remove the overhead.\n",
      "And if memory is not enough, you can set `force_col_wise=true`.\n",
      "[LightGBM] [Info] Total Bins 3100\n",
      "[LightGBM] [Info] Number of data points in the train set: 8829, number of used features: 60\n",
      "[LightGBM] [Warning] Auto-choosing row-wise multi-threading, the overhead of testing was 0.000727 seconds.\n",
      "You can set `force_row_wise=true` to remove the overhead.\n",
      "And if memory is not enough, you can set `force_col_wise=true`.\n",
      "[LightGBM] [Info] Total Bins 3100\n",
      "[LightGBM] [Info] Number of data points in the train set: 8829, number of used features: 60\n",
      "[LightGBM] [Warning] Auto-choosing col-wise multi-threading, the overhead of testing was 0.001695 seconds.\n",
      "You can set `force_col_wise=true` to remove the overhead.\n",
      "[LightGBM] [Info] Total Bins 3100\n",
      "[LightGBM] [Info] Number of data points in the train set: 8829, number of used features: 60\n",
      "[LightGBM] [Warning] Auto-choosing row-wise multi-threading, the overhead of testing was 0.001047 seconds.\n",
      "You can set `force_row_wise=true` to remove the overhead.\n",
      "And if memory is not enough, you can set `force_col_wise=true`.\n",
      "[LightGBM] [Info] Total Bins 3100\n",
      "[LightGBM] [Info] Number of data points in the train set: 8829, number of used features: 60\n",
      "[LightGBM] [Info] Start training from score 0.038174\n",
      "[LightGBM] [Info] Start training from score 0.038283\n",
      "[LightGBM] [Info] Start training from score 0.038283\n",
      "[LightGBM] [Info] Start training from score 0.038283\n",
      "[LightGBM] [Info] Start training from score 0.038170\n"
     ]
    },
    {
     "name": "stderr",
     "output_type": "stream",
     "text": [
      "Found `n_estimators` in params. Will use it instead of argument\n"
     ]
    },
    {
     "name": "stdout",
     "output_type": "stream",
     "text": [
      "[LightGBM] [Warning] Auto-choosing row-wise multi-threading, the overhead of testing was 0.000713 seconds.\n",
      "You can set `force_row_wise=true` to remove the overhead.\n",
      "And if memory is not enough, you can set `force_col_wise=true`.\n",
      "[LightGBM] [Info] Total Bins 3100\n",
      "[LightGBM] [Info] Number of data points in the train set: 8828, number of used features: 60\n",
      "[LightGBM] [Warning] Auto-choosing row-wise multi-threading, the overhead of testing was 0.001236 seconds.\n",
      "You can set `force_row_wise=true` to remove the overhead.\n",
      "And if memory is not enough, you can set `force_col_wise=true`.\n",
      "[LightGBM] [Info] Total Bins 3100\n",
      "[LightGBM] [Info] Number of data points in the train set: 8829, number of used features: 60\n",
      "[LightGBM] [Warning] Auto-choosing col-wise multi-threading, the overhead of testing was 0.001617 seconds.\n",
      "You can set `force_col_wise=true` to remove the overhead.\n",
      "[LightGBM] [Info] Total Bins 3100\n",
      "[LightGBM] [Info] Number of data points in the train set: 8829, number of used features: 60\n",
      "[LightGBM] [Warning] Auto-choosing row-wise multi-threading, the overhead of testing was 0.000833 seconds.\n",
      "You can set `force_row_wise=true` to remove the overhead.\n",
      "And if memory is not enough, you can set `force_col_wise=true`.\n",
      "[LightGBM] [Info] Total Bins 3100\n",
      "[LightGBM] [Info] Number of data points in the train set: 8829, number of used features: 60\n",
      "[LightGBM] [Warning] Auto-choosing row-wise multi-threading, the overhead of testing was 0.000817 seconds.\n",
      "You can set `force_row_wise=true` to remove the overhead.\n",
      "And if memory is not enough, you can set `force_col_wise=true`.\n",
      "[LightGBM] [Info] Total Bins 3100\n",
      "[LightGBM] [Info] Number of data points in the train set: 8829, number of used features: 60\n",
      "[LightGBM] [Info] Start training from score 0.038174\n",
      "[LightGBM] [Info] Start training from score 0.038283\n",
      "[LightGBM] [Info] Start training from score 0.038283\n",
      "[LightGBM] [Info] Start training from score 0.038283\n",
      "[LightGBM] [Info] Start training from score 0.038170\n"
     ]
    },
    {
     "name": "stderr",
     "output_type": "stream",
     "text": [
      "Found `n_estimators` in params. Will use it instead of argument\n"
     ]
    },
    {
     "name": "stdout",
     "output_type": "stream",
     "text": [
      "[LightGBM] [Warning] Auto-choosing row-wise multi-threading, the overhead of testing was 0.001043 seconds.\n",
      "You can set `force_row_wise=true` to remove the overhead.\n",
      "And if memory is not enough, you can set `force_col_wise=true`.\n",
      "[LightGBM] [Info] Total Bins 3100\n",
      "[LightGBM] [Info] Number of data points in the train set: 8828, number of used features: 60\n",
      "[LightGBM] [Warning] Auto-choosing row-wise multi-threading, the overhead of testing was 0.000708 seconds.\n",
      "You can set `force_row_wise=true` to remove the overhead.\n",
      "And if memory is not enough, you can set `force_col_wise=true`.\n",
      "[LightGBM] [Info] Total Bins 3100\n",
      "[LightGBM] [Info] Number of data points in the train set: 8829, number of used features: 60\n",
      "[LightGBM] [Warning] Auto-choosing col-wise multi-threading, the overhead of testing was 0.001151 seconds.\n",
      "You can set `force_col_wise=true` to remove the overhead.\n",
      "[LightGBM] [Info] Total Bins 3100\n",
      "[LightGBM] [Info] Number of data points in the train set: 8829, number of used features: 60\n",
      "[LightGBM] [Warning] Auto-choosing row-wise multi-threading, the overhead of testing was 0.001208 seconds.\n",
      "You can set `force_row_wise=true` to remove the overhead.\n",
      "And if memory is not enough, you can set `force_col_wise=true`.\n",
      "[LightGBM] [Info] Total Bins 3100\n",
      "[LightGBM] [Info] Number of data points in the train set: 8829, number of used features: 60\n",
      "[LightGBM] [Warning] Auto-choosing row-wise multi-threading, the overhead of testing was 0.000969 seconds.\n",
      "You can set `force_row_wise=true` to remove the overhead.\n",
      "And if memory is not enough, you can set `force_col_wise=true`.\n",
      "[LightGBM] [Info] Total Bins 3100\n",
      "[LightGBM] [Info] Number of data points in the train set: 8829, number of used features: 60\n",
      "[LightGBM] [Info] Start training from score 0.038174\n",
      "[LightGBM] [Info] Start training from score 0.038283\n",
      "[LightGBM] [Info] Start training from score 0.038283\n",
      "[LightGBM] [Info] Start training from score 0.038283\n",
      "[LightGBM] [Info] Start training from score 0.038170\n"
     ]
    },
    {
     "name": "stderr",
     "output_type": "stream",
     "text": [
      "Found `n_estimators` in params. Will use it instead of argument\n"
     ]
    },
    {
     "name": "stdout",
     "output_type": "stream",
     "text": [
      "[LightGBM] [Warning] Auto-choosing col-wise multi-threading, the overhead of testing was 0.001220 seconds.\n",
      "You can set `force_col_wise=true` to remove the overhead.\n",
      "[LightGBM] [Info] Total Bins 3100\n",
      "[LightGBM] [Info] Number of data points in the train set: 8828, number of used features: 60\n",
      "[LightGBM] [Warning] Auto-choosing row-wise multi-threading, the overhead of testing was 0.001001 seconds.\n",
      "You can set `force_row_wise=true` to remove the overhead.\n",
      "And if memory is not enough, you can set `force_col_wise=true`.\n",
      "[LightGBM] [Info] Total Bins 3100\n",
      "[LightGBM] [Info] Number of data points in the train set: 8829, number of used features: 60\n",
      "[LightGBM] [Warning] Auto-choosing row-wise multi-threading, the overhead of testing was 0.001344 seconds.\n",
      "You can set `force_row_wise=true` to remove the overhead.\n",
      "And if memory is not enough, you can set `force_col_wise=true`.\n",
      "[LightGBM] [Info] Total Bins 3100\n",
      "[LightGBM] [Info] Number of data points in the train set: 8829, number of used features: 60\n",
      "[LightGBM] [Warning] Auto-choosing col-wise multi-threading, the overhead of testing was 0.001524 seconds.\n",
      "You can set `force_col_wise=true` to remove the overhead.\n",
      "[LightGBM] [Info] Total Bins 3100\n",
      "[LightGBM] [Info] Number of data points in the train set: 8829, number of used features: 60\n",
      "[LightGBM] [Warning] Auto-choosing row-wise multi-threading, the overhead of testing was 0.001058 seconds.\n",
      "You can set `force_row_wise=true` to remove the overhead.\n",
      "And if memory is not enough, you can set `force_col_wise=true`.\n",
      "[LightGBM] [Info] Total Bins 3100\n",
      "[LightGBM] [Info] Number of data points in the train set: 8829, number of used features: 60\n",
      "[LightGBM] [Info] Start training from score 0.038174\n",
      "[LightGBM] [Info] Start training from score 0.038283\n",
      "[LightGBM] [Info] Start training from score 0.038283\n",
      "[LightGBM] [Info] Start training from score 0.038283\n",
      "[LightGBM] [Info] Start training from score 0.038170\n"
     ]
    },
    {
     "name": "stderr",
     "output_type": "stream",
     "text": [
      "Found `n_estimators` in params. Will use it instead of argument\n"
     ]
    },
    {
     "name": "stdout",
     "output_type": "stream",
     "text": [
      "[LightGBM] [Warning] Auto-choosing row-wise multi-threading, the overhead of testing was 0.001080 seconds.\n",
      "You can set `force_row_wise=true` to remove the overhead.\n",
      "And if memory is not enough, you can set `force_col_wise=true`.\n",
      "[LightGBM] [Info] Total Bins 3100\n",
      "[LightGBM] [Info] Number of data points in the train set: 8828, number of used features: 60\n",
      "[LightGBM] [Warning] Auto-choosing row-wise multi-threading, the overhead of testing was 0.001066 seconds.\n",
      "You can set `force_row_wise=true` to remove the overhead.\n",
      "And if memory is not enough, you can set `force_col_wise=true`.\n",
      "[LightGBM] [Info] Total Bins 3100\n",
      "[LightGBM] [Info] Number of data points in the train set: 8829, number of used features: 60\n",
      "[LightGBM] [Warning] Auto-choosing col-wise multi-threading, the overhead of testing was 0.001520 seconds.\n",
      "You can set `force_col_wise=true` to remove the overhead.\n",
      "[LightGBM] [Info] Total Bins 3100\n",
      "[LightGBM] [Info] Number of data points in the train set: 8829, number of used features: 60\n",
      "[LightGBM] [Warning] Auto-choosing col-wise multi-threading, the overhead of testing was 0.001825 seconds.\n",
      "You can set `force_col_wise=true` to remove the overhead.\n",
      "[LightGBM] [Info] Total Bins 3100\n",
      "[LightGBM] [Info] Number of data points in the train set: 8829, number of used features: 60\n",
      "[LightGBM] [Warning] Auto-choosing row-wise multi-threading, the overhead of testing was 0.000886 seconds.\n",
      "You can set `force_row_wise=true` to remove the overhead.\n",
      "And if memory is not enough, you can set `force_col_wise=true`.\n",
      "[LightGBM] [Info] Total Bins 3100\n",
      "[LightGBM] [Info] Number of data points in the train set: 8829, number of used features: 60\n",
      "[LightGBM] [Info] Start training from score 0.038174\n",
      "[LightGBM] [Info] Start training from score 0.038283\n",
      "[LightGBM] [Info] Start training from score 0.038283\n",
      "[LightGBM] [Info] Start training from score 0.038283\n",
      "[LightGBM] [Info] Start training from score 0.038170\n"
     ]
    },
    {
     "name": "stderr",
     "output_type": "stream",
     "text": [
      "Found `n_estimators` in params. Will use it instead of argument\n"
     ]
    },
    {
     "name": "stdout",
     "output_type": "stream",
     "text": [
      "[LightGBM] [Warning] Auto-choosing row-wise multi-threading, the overhead of testing was 0.000848 seconds.\n",
      "You can set `force_row_wise=true` to remove the overhead.\n",
      "And if memory is not enough, you can set `force_col_wise=true`.\n",
      "[LightGBM] [Info] Total Bins 3100\n",
      "[LightGBM] [Info] Number of data points in the train set: 8828, number of used features: 60\n",
      "[LightGBM] [Warning] Auto-choosing row-wise multi-threading, the overhead of testing was 0.000912 seconds.\n",
      "You can set `force_row_wise=true` to remove the overhead.\n",
      "And if memory is not enough, you can set `force_col_wise=true`.\n",
      "[LightGBM] [Info] Total Bins 3100\n",
      "[LightGBM] [Info] Number of data points in the train set: 8829, number of used features: 60\n",
      "[LightGBM] [Warning] Auto-choosing col-wise multi-threading, the overhead of testing was 0.001537 seconds.\n",
      "You can set `force_col_wise=true` to remove the overhead.\n",
      "[LightGBM] [Info] Total Bins 3100\n",
      "[LightGBM] [Info] Number of data points in the train set: 8829, number of used features: 60\n",
      "[LightGBM] [Warning] Auto-choosing row-wise multi-threading, the overhead of testing was 0.000879 seconds.\n",
      "You can set `force_row_wise=true` to remove the overhead.\n",
      "And if memory is not enough, you can set `force_col_wise=true`.\n",
      "[LightGBM] [Info] Total Bins 3100\n",
      "[LightGBM] [Info] Number of data points in the train set: 8829, number of used features: 60\n",
      "[LightGBM] [Warning] Auto-choosing col-wise multi-threading, the overhead of testing was 0.001829 seconds.\n",
      "You can set `force_col_wise=true` to remove the overhead.\n",
      "[LightGBM] [Info] Total Bins 3100\n",
      "[LightGBM] [Info] Number of data points in the train set: 8829, number of used features: 60\n",
      "[LightGBM] [Info] Start training from score 0.038174\n",
      "[LightGBM] [Info] Start training from score 0.038283\n",
      "[LightGBM] [Info] Start training from score 0.038283\n",
      "[LightGBM] [Info] Start training from score 0.038283\n",
      "[LightGBM] [Info] Start training from score 0.038170\n"
     ]
    },
    {
     "name": "stderr",
     "output_type": "stream",
     "text": [
      "Found `n_estimators` in params. Will use it instead of argument\n"
     ]
    },
    {
     "name": "stdout",
     "output_type": "stream",
     "text": [
      "[LightGBM] [Warning] Auto-choosing row-wise multi-threading, the overhead of testing was 0.000972 seconds.\n",
      "You can set `force_row_wise=true` to remove the overhead.\n",
      "And if memory is not enough, you can set `force_col_wise=true`.\n",
      "[LightGBM] [Info] Total Bins 3100\n",
      "[LightGBM] [Info] Number of data points in the train set: 8828, number of used features: 60\n",
      "[LightGBM] [Warning] Auto-choosing row-wise multi-threading, the overhead of testing was 0.000780 seconds.\n",
      "You can set `force_row_wise=true` to remove the overhead.\n",
      "And if memory is not enough, you can set `force_col_wise=true`.\n",
      "[LightGBM] [Info] Total Bins 3100\n",
      "[LightGBM] [Info] Number of data points in the train set: 8829, number of used features: 60\n",
      "[LightGBM] [Warning] Auto-choosing col-wise multi-threading, the overhead of testing was 0.001439 seconds.\n",
      "You can set `force_col_wise=true` to remove the overhead.\n",
      "[LightGBM] [Info] Total Bins 3100\n",
      "[LightGBM] [Info] Number of data points in the train set: 8829, number of used features: 60\n",
      "[LightGBM] [Warning] Auto-choosing row-wise multi-threading, the overhead of testing was 0.000810 seconds.\n",
      "You can set `force_row_wise=true` to remove the overhead.\n",
      "And if memory is not enough, you can set `force_col_wise=true`.\n",
      "[LightGBM] [Info] Total Bins 3100\n",
      "[LightGBM] [Info] Number of data points in the train set: 8829, number of used features: 60\n",
      "[LightGBM] [Warning] Auto-choosing col-wise multi-threading, the overhead of testing was 0.001752 seconds.\n",
      "You can set `force_col_wise=true` to remove the overhead.\n",
      "[LightGBM] [Info] Total Bins 3100\n",
      "[LightGBM] [Info] Number of data points in the train set: 8829, number of used features: 60\n",
      "[LightGBM] [Info] Start training from score 0.038174\n",
      "[LightGBM] [Info] Start training from score 0.038283\n",
      "[LightGBM] [Info] Start training from score 0.038283\n",
      "[LightGBM] [Info] Start training from score 0.038283\n",
      "[LightGBM] [Info] Start training from score 0.038170\n"
     ]
    },
    {
     "name": "stderr",
     "output_type": "stream",
     "text": [
      "Found `n_estimators` in params. Will use it instead of argument\n"
     ]
    },
    {
     "name": "stdout",
     "output_type": "stream",
     "text": [
      "[LightGBM] [Warning] Auto-choosing row-wise multi-threading, the overhead of testing was 0.001161 seconds.\n",
      "You can set `force_row_wise=true` to remove the overhead.\n",
      "And if memory is not enough, you can set `force_col_wise=true`.\n",
      "[LightGBM] [Info] Total Bins 3100\n",
      "[LightGBM] [Info] Number of data points in the train set: 8828, number of used features: 60\n",
      "[LightGBM] [Warning] Auto-choosing col-wise multi-threading, the overhead of testing was 0.001844 seconds.\n",
      "You can set `force_col_wise=true` to remove the overhead.\n",
      "[LightGBM] [Info] Total Bins 3100\n",
      "[LightGBM] [Info] Number of data points in the train set: 8829, number of used features: 60\n",
      "[LightGBM] [Warning] Auto-choosing row-wise multi-threading, the overhead of testing was 0.000892 seconds.\n",
      "You can set `force_row_wise=true` to remove the overhead.\n",
      "And if memory is not enough, you can set `force_col_wise=true`.\n",
      "[LightGBM] [Info] Total Bins 3100\n",
      "[LightGBM] [Info] Number of data points in the train set: 8829, number of used features: 60\n",
      "[LightGBM] [Warning] Auto-choosing row-wise multi-threading, the overhead of testing was 0.000729 seconds.\n",
      "You can set `force_row_wise=true` to remove the overhead.\n",
      "And if memory is not enough, you can set `force_col_wise=true`.\n",
      "[LightGBM] [Info] Total Bins 3100\n",
      "[LightGBM] [Info] Number of data points in the train set: 8829, number of used features: 60\n",
      "[LightGBM] [Warning] Auto-choosing col-wise multi-threading, the overhead of testing was 0.001938 seconds.\n",
      "You can set `force_col_wise=true` to remove the overhead.\n",
      "[LightGBM] [Info] Total Bins 3100\n",
      "[LightGBM] [Info] Number of data points in the train set: 8829, number of used features: 60\n",
      "[LightGBM] [Info] Start training from score 0.038174\n",
      "[LightGBM] [Info] Start training from score 0.038283\n",
      "[LightGBM] [Info] Start training from score 0.038283\n",
      "[LightGBM] [Info] Start training from score 0.038283\n",
      "[LightGBM] [Info] Start training from score 0.038170\n"
     ]
    },
    {
     "name": "stderr",
     "output_type": "stream",
     "text": [
      "Found `n_estimators` in params. Will use it instead of argument\n"
     ]
    },
    {
     "name": "stdout",
     "output_type": "stream",
     "text": [
      "[LightGBM] [Warning] Auto-choosing row-wise multi-threading, the overhead of testing was 0.001080 seconds.\n",
      "You can set `force_row_wise=true` to remove the overhead.\n",
      "And if memory is not enough, you can set `force_col_wise=true`.\n",
      "[LightGBM] [Info] Total Bins 3100\n",
      "[LightGBM] [Info] Number of data points in the train set: 8828, number of used features: 60\n",
      "[LightGBM] [Warning] Auto-choosing row-wise multi-threading, the overhead of testing was 0.000978 seconds.\n",
      "You can set `force_row_wise=true` to remove the overhead.\n",
      "And if memory is not enough, you can set `force_col_wise=true`.\n",
      "[LightGBM] [Info] Total Bins 3100\n",
      "[LightGBM] [Info] Number of data points in the train set: 8829, number of used features: 60\n",
      "[LightGBM] [Warning] Auto-choosing col-wise multi-threading, the overhead of testing was 0.001144 seconds.\n",
      "You can set `force_col_wise=true` to remove the overhead.\n",
      "[LightGBM] [Info] Total Bins 3100\n",
      "[LightGBM] [Info] Number of data points in the train set: 8829, number of used features: 60\n",
      "[LightGBM] [Warning] Auto-choosing row-wise multi-threading, the overhead of testing was 0.000775 seconds.\n",
      "You can set `force_row_wise=true` to remove the overhead.\n",
      "And if memory is not enough, you can set `force_col_wise=true`.\n",
      "[LightGBM] [Info] Total Bins 3100\n",
      "[LightGBM] [Info] Number of data points in the train set: 8829, number of used features: 60\n",
      "[LightGBM] [Warning] Auto-choosing col-wise multi-threading, the overhead of testing was 0.002012 seconds.\n",
      "You can set `force_col_wise=true` to remove the overhead.\n",
      "[LightGBM] [Info] Total Bins 3100\n",
      "[LightGBM] [Info] Number of data points in the train set: 8829, number of used features: 60\n",
      "[LightGBM] [Info] Start training from score 0.038174\n",
      "[LightGBM] [Info] Start training from score 0.038283\n",
      "[LightGBM] [Info] Start training from score 0.038283\n",
      "[LightGBM] [Info] Start training from score 0.038283\n",
      "[LightGBM] [Info] Start training from score 0.038170\n"
     ]
    },
    {
     "name": "stderr",
     "output_type": "stream",
     "text": [
      "Found `n_estimators` in params. Will use it instead of argument\n"
     ]
    },
    {
     "name": "stdout",
     "output_type": "stream",
     "text": [
      "[LightGBM] [Warning] Auto-choosing row-wise multi-threading, the overhead of testing was 0.000849 seconds.\n",
      "You can set `force_row_wise=true` to remove the overhead.\n",
      "And if memory is not enough, you can set `force_col_wise=true`.\n",
      "[LightGBM] [Info] Total Bins 3100\n",
      "[LightGBM] [Info] Number of data points in the train set: 8828, number of used features: 60\n",
      "[LightGBM] [Warning] Auto-choosing col-wise multi-threading, the overhead of testing was 0.001613 seconds.\n",
      "You can set `force_col_wise=true` to remove the overhead.\n",
      "[LightGBM] [Info] Total Bins 3100\n",
      "[LightGBM] [Info] Number of data points in the train set: 8829, number of used features: 60\n",
      "[LightGBM] [Warning] Auto-choosing row-wise multi-threading, the overhead of testing was 0.001114 seconds.\n",
      "You can set `force_row_wise=true` to remove the overhead.\n",
      "And if memory is not enough, you can set `force_col_wise=true`.\n",
      "[LightGBM] [Info] Total Bins 3100\n",
      "[LightGBM] [Info] Number of data points in the train set: 8829, number of used features: 60\n",
      "[LightGBM] [Warning] Auto-choosing row-wise multi-threading, the overhead of testing was 0.000839 seconds.\n",
      "You can set `force_row_wise=true` to remove the overhead.\n",
      "And if memory is not enough, you can set `force_col_wise=true`.\n",
      "[LightGBM] [Info] Total Bins 3100\n",
      "[LightGBM] [Info] Number of data points in the train set: 8829, number of used features: 60\n",
      "[LightGBM] [Warning] Auto-choosing col-wise multi-threading, the overhead of testing was 0.001487 seconds.\n",
      "You can set `force_col_wise=true` to remove the overhead.\n",
      "[LightGBM] [Info] Total Bins 3100\n",
      "[LightGBM] [Info] Number of data points in the train set: 8829, number of used features: 60\n",
      "[LightGBM] [Info] Start training from score 0.038174\n",
      "[LightGBM] [Info] Start training from score 0.038283\n",
      "[LightGBM] [Info] Start training from score 0.038283\n",
      "[LightGBM] [Info] Start training from score 0.038283\n",
      "[LightGBM] [Info] Start training from score 0.038170\n"
     ]
    }
   ],
   "source": [
    "random_results = random_search(trimmed_features, param_grid, n_estimators)"
   ]
  },
  {
   "cell_type": "code",
   "execution_count": 19,
   "metadata": {
    "ExecuteTime": {
     "end_time": "2022-09-05T03:38:07.189320Z",
     "start_time": "2022-09-05T03:38:07.111321Z"
    }
   },
   "outputs": [
    {
     "name": "stdout",
     "output_type": "stream",
     "text": [
      "The highest cross validation score from random search was 0.69052 found on iteration 23.\n",
      "\n",
      "The best hyperparameters were:\n",
      "{'colsample_bytree': 0.6888888888888889,\n",
      " 'is_unbalance': True,\n",
      " 'learning_rate': 0.058480354764257315,\n",
      " 'n_estimators': 28,\n",
      " 'num_leaves': 20,\n",
      " 'reg_alpha': 0.6326530612244897,\n",
      " 'reg_lambda': 0.8571428571428571,\n",
      " 'subsample': 0.6666666666666666}\n"
     ]
    }
   ],
   "source": [
    "df_search, tuned_hyperparameters = evaluate_search(random_results, name = 'random search')"
   ]
  },
  {
   "cell_type": "code",
   "execution_count": 20,
   "metadata": {
    "ExecuteTime": {
     "end_time": "2022-09-05T03:38:07.221321Z",
     "start_time": "2022-09-05T03:38:07.191321Z"
    },
    "scrolled": true
   },
   "outputs": [
    {
     "data": {
      "text/html": [
       "<div>\n",
       "<style scoped>\n",
       "    .dataframe tbody tr th:only-of-type {\n",
       "        vertical-align: middle;\n",
       "    }\n",
       "\n",
       "    .dataframe tbody tr th {\n",
       "        vertical-align: top;\n",
       "    }\n",
       "\n",
       "    .dataframe thead th {\n",
       "        text-align: right;\n",
       "    }\n",
       "</style>\n",
       "<table border=\"1\" class=\"dataframe\">\n",
       "  <thead>\n",
       "    <tr style=\"text-align: right;\">\n",
       "      <th></th>\n",
       "      <th>num_leaves</th>\n",
       "      <th>learning_rate</th>\n",
       "      <th>reg_alpha</th>\n",
       "      <th>reg_lambda</th>\n",
       "      <th>colsample_bytree</th>\n",
       "      <th>subsample</th>\n",
       "      <th>is_unbalance</th>\n",
       "      <th>n_estimators</th>\n",
       "      <th>iteration</th>\n",
       "      <th>score</th>\n",
       "    </tr>\n",
       "  </thead>\n",
       "  <tbody>\n",
       "    <tr>\n",
       "      <th>0</th>\n",
       "      <td>20</td>\n",
       "      <td>0.058480</td>\n",
       "      <td>0.632653</td>\n",
       "      <td>0.857143</td>\n",
       "      <td>0.688889</td>\n",
       "      <td>0.666667</td>\n",
       "      <td>True</td>\n",
       "      <td>28</td>\n",
       "      <td>23</td>\n",
       "      <td>0.690523</td>\n",
       "    </tr>\n",
       "    <tr>\n",
       "      <th>1</th>\n",
       "      <td>9</td>\n",
       "      <td>0.088108</td>\n",
       "      <td>0.244898</td>\n",
       "      <td>0.775510</td>\n",
       "      <td>0.822222</td>\n",
       "      <td>0.666667</td>\n",
       "      <td>True</td>\n",
       "      <td>28</td>\n",
       "      <td>2</td>\n",
       "      <td>0.684373</td>\n",
       "    </tr>\n",
       "    <tr>\n",
       "      <th>2</th>\n",
       "      <td>16</td>\n",
       "      <td>0.025763</td>\n",
       "      <td>0.979592</td>\n",
       "      <td>0.693878</td>\n",
       "      <td>0.644444</td>\n",
       "      <td>1.000000</td>\n",
       "      <td>True</td>\n",
       "      <td>28</td>\n",
       "      <td>22</td>\n",
       "      <td>0.681965</td>\n",
       "    </tr>\n",
       "    <tr>\n",
       "      <th>3</th>\n",
       "      <td>12</td>\n",
       "      <td>0.007533</td>\n",
       "      <td>0.653061</td>\n",
       "      <td>0.040816</td>\n",
       "      <td>0.644444</td>\n",
       "      <td>0.555556</td>\n",
       "      <td>False</td>\n",
       "      <td>28</td>\n",
       "      <td>7</td>\n",
       "      <td>0.681765</td>\n",
       "    </tr>\n",
       "    <tr>\n",
       "      <th>4</th>\n",
       "      <td>22</td>\n",
       "      <td>0.011350</td>\n",
       "      <td>0.469388</td>\n",
       "      <td>0.163265</td>\n",
       "      <td>0.600000</td>\n",
       "      <td>0.777778</td>\n",
       "      <td>False</td>\n",
       "      <td>28</td>\n",
       "      <td>4</td>\n",
       "      <td>0.681328</td>\n",
       "    </tr>\n",
       "    <tr>\n",
       "      <th>5</th>\n",
       "      <td>19</td>\n",
       "      <td>0.025763</td>\n",
       "      <td>0.816327</td>\n",
       "      <td>0.367347</td>\n",
       "      <td>0.822222</td>\n",
       "      <td>0.722222</td>\n",
       "      <td>True</td>\n",
       "      <td>28</td>\n",
       "      <td>21</td>\n",
       "      <td>0.681154</td>\n",
       "    </tr>\n",
       "    <tr>\n",
       "      <th>6</th>\n",
       "      <td>14</td>\n",
       "      <td>0.005000</td>\n",
       "      <td>0.387755</td>\n",
       "      <td>0.387755</td>\n",
       "      <td>0.777778</td>\n",
       "      <td>0.555556</td>\n",
       "      <td>True</td>\n",
       "      <td>28</td>\n",
       "      <td>11</td>\n",
       "      <td>0.681016</td>\n",
       "    </tr>\n",
       "    <tr>\n",
       "      <th>7</th>\n",
       "      <td>19</td>\n",
       "      <td>0.007533</td>\n",
       "      <td>0.448980</td>\n",
       "      <td>0.795918</td>\n",
       "      <td>0.866667</td>\n",
       "      <td>0.611111</td>\n",
       "      <td>False</td>\n",
       "      <td>28</td>\n",
       "      <td>20</td>\n",
       "      <td>0.680964</td>\n",
       "    </tr>\n",
       "    <tr>\n",
       "      <th>8</th>\n",
       "      <td>13</td>\n",
       "      <td>0.025763</td>\n",
       "      <td>0.714286</td>\n",
       "      <td>0.244898</td>\n",
       "      <td>0.688889</td>\n",
       "      <td>0.722222</td>\n",
       "      <td>False</td>\n",
       "      <td>28</td>\n",
       "      <td>15</td>\n",
       "      <td>0.679564</td>\n",
       "    </tr>\n",
       "    <tr>\n",
       "      <th>9</th>\n",
       "      <td>13</td>\n",
       "      <td>0.007533</td>\n",
       "      <td>0.224490</td>\n",
       "      <td>0.612245</td>\n",
       "      <td>0.600000</td>\n",
       "      <td>0.666667</td>\n",
       "      <td>False</td>\n",
       "      <td>28</td>\n",
       "      <td>8</td>\n",
       "      <td>0.679136</td>\n",
       "    </tr>\n",
       "    <tr>\n",
       "      <th>10</th>\n",
       "      <td>19</td>\n",
       "      <td>0.005000</td>\n",
       "      <td>0.612245</td>\n",
       "      <td>0.591837</td>\n",
       "      <td>0.822222</td>\n",
       "      <td>0.555556</td>\n",
       "      <td>True</td>\n",
       "      <td>28</td>\n",
       "      <td>16</td>\n",
       "      <td>0.679082</td>\n",
       "    </tr>\n",
       "    <tr>\n",
       "      <th>11</th>\n",
       "      <td>18</td>\n",
       "      <td>0.007533</td>\n",
       "      <td>0.510204</td>\n",
       "      <td>1.000000</td>\n",
       "      <td>0.733333</td>\n",
       "      <td>0.611111</td>\n",
       "      <td>False</td>\n",
       "      <td>28</td>\n",
       "      <td>6</td>\n",
       "      <td>0.678567</td>\n",
       "    </tr>\n",
       "    <tr>\n",
       "      <th>12</th>\n",
       "      <td>21</td>\n",
       "      <td>0.017100</td>\n",
       "      <td>0.816327</td>\n",
       "      <td>0.714286</td>\n",
       "      <td>0.866667</td>\n",
       "      <td>0.666667</td>\n",
       "      <td>False</td>\n",
       "      <td>28</td>\n",
       "      <td>29</td>\n",
       "      <td>0.678291</td>\n",
       "    </tr>\n",
       "    <tr>\n",
       "      <th>13</th>\n",
       "      <td>23</td>\n",
       "      <td>0.058480</td>\n",
       "      <td>1.000000</td>\n",
       "      <td>0.857143</td>\n",
       "      <td>1.000000</td>\n",
       "      <td>1.000000</td>\n",
       "      <td>False</td>\n",
       "      <td>28</td>\n",
       "      <td>3</td>\n",
       "      <td>0.677415</td>\n",
       "    </tr>\n",
       "    <tr>\n",
       "      <th>14</th>\n",
       "      <td>16</td>\n",
       "      <td>0.025763</td>\n",
       "      <td>0.183673</td>\n",
       "      <td>0.612245</td>\n",
       "      <td>0.733333</td>\n",
       "      <td>0.666667</td>\n",
       "      <td>False</td>\n",
       "      <td>28</td>\n",
       "      <td>26</td>\n",
       "      <td>0.676325</td>\n",
       "    </tr>\n",
       "    <tr>\n",
       "      <th>15</th>\n",
       "      <td>11</td>\n",
       "      <td>0.025763</td>\n",
       "      <td>0.714286</td>\n",
       "      <td>0.000000</td>\n",
       "      <td>0.688889</td>\n",
       "      <td>1.000000</td>\n",
       "      <td>True</td>\n",
       "      <td>28</td>\n",
       "      <td>1</td>\n",
       "      <td>0.675884</td>\n",
       "    </tr>\n",
       "    <tr>\n",
       "      <th>16</th>\n",
       "      <td>23</td>\n",
       "      <td>0.132747</td>\n",
       "      <td>0.591837</td>\n",
       "      <td>0.632653</td>\n",
       "      <td>0.688889</td>\n",
       "      <td>0.611111</td>\n",
       "      <td>False</td>\n",
       "      <td>28</td>\n",
       "      <td>5</td>\n",
       "      <td>0.675741</td>\n",
       "    </tr>\n",
       "    <tr>\n",
       "      <th>17</th>\n",
       "      <td>10</td>\n",
       "      <td>0.005000</td>\n",
       "      <td>0.612245</td>\n",
       "      <td>0.714286</td>\n",
       "      <td>0.733333</td>\n",
       "      <td>0.611111</td>\n",
       "      <td>False</td>\n",
       "      <td>28</td>\n",
       "      <td>27</td>\n",
       "      <td>0.675619</td>\n",
       "    </tr>\n",
       "    <tr>\n",
       "      <th>18</th>\n",
       "      <td>23</td>\n",
       "      <td>0.088108</td>\n",
       "      <td>0.857143</td>\n",
       "      <td>0.326531</td>\n",
       "      <td>0.911111</td>\n",
       "      <td>0.888889</td>\n",
       "      <td>False</td>\n",
       "      <td>28</td>\n",
       "      <td>9</td>\n",
       "      <td>0.675327</td>\n",
       "    </tr>\n",
       "    <tr>\n",
       "      <th>19</th>\n",
       "      <td>20</td>\n",
       "      <td>0.132747</td>\n",
       "      <td>0.612245</td>\n",
       "      <td>0.040816</td>\n",
       "      <td>0.733333</td>\n",
       "      <td>0.722222</td>\n",
       "      <td>False</td>\n",
       "      <td>28</td>\n",
       "      <td>24</td>\n",
       "      <td>0.674326</td>\n",
       "    </tr>\n",
       "    <tr>\n",
       "      <th>20</th>\n",
       "      <td>22</td>\n",
       "      <td>0.017100</td>\n",
       "      <td>0.714286</td>\n",
       "      <td>0.897959</td>\n",
       "      <td>1.000000</td>\n",
       "      <td>0.833333</td>\n",
       "      <td>False</td>\n",
       "      <td>28</td>\n",
       "      <td>25</td>\n",
       "      <td>0.670618</td>\n",
       "    </tr>\n",
       "    <tr>\n",
       "      <th>21</th>\n",
       "      <td>10</td>\n",
       "      <td>0.007533</td>\n",
       "      <td>0.775510</td>\n",
       "      <td>0.571429</td>\n",
       "      <td>0.777778</td>\n",
       "      <td>0.777778</td>\n",
       "      <td>True</td>\n",
       "      <td>28</td>\n",
       "      <td>28</td>\n",
       "      <td>0.669767</td>\n",
       "    </tr>\n",
       "    <tr>\n",
       "      <th>22</th>\n",
       "      <td>11</td>\n",
       "      <td>0.011350</td>\n",
       "      <td>0.367347</td>\n",
       "      <td>0.469388</td>\n",
       "      <td>0.600000</td>\n",
       "      <td>0.555556</td>\n",
       "      <td>False</td>\n",
       "      <td>28</td>\n",
       "      <td>19</td>\n",
       "      <td>0.667132</td>\n",
       "    </tr>\n",
       "    <tr>\n",
       "      <th>23</th>\n",
       "      <td>7</td>\n",
       "      <td>0.025763</td>\n",
       "      <td>0.122449</td>\n",
       "      <td>0.285714</td>\n",
       "      <td>0.733333</td>\n",
       "      <td>0.611111</td>\n",
       "      <td>False</td>\n",
       "      <td>28</td>\n",
       "      <td>17</td>\n",
       "      <td>0.658572</td>\n",
       "    </tr>\n",
       "    <tr>\n",
       "      <th>24</th>\n",
       "      <td>5</td>\n",
       "      <td>0.025763</td>\n",
       "      <td>0.510204</td>\n",
       "      <td>0.530612</td>\n",
       "      <td>0.733333</td>\n",
       "      <td>0.666667</td>\n",
       "      <td>False</td>\n",
       "      <td>28</td>\n",
       "      <td>12</td>\n",
       "      <td>0.658209</td>\n",
       "    </tr>\n",
       "    <tr>\n",
       "      <th>25</th>\n",
       "      <td>5</td>\n",
       "      <td>0.007533</td>\n",
       "      <td>0.510204</td>\n",
       "      <td>0.285714</td>\n",
       "      <td>0.600000</td>\n",
       "      <td>0.722222</td>\n",
       "      <td>True</td>\n",
       "      <td>28</td>\n",
       "      <td>18</td>\n",
       "      <td>0.650285</td>\n",
       "    </tr>\n",
       "    <tr>\n",
       "      <th>26</th>\n",
       "      <td>14</td>\n",
       "      <td>0.005000</td>\n",
       "      <td>0.163265</td>\n",
       "      <td>0.224490</td>\n",
       "      <td>0.911111</td>\n",
       "      <td>0.611111</td>\n",
       "      <td>True</td>\n",
       "      <td>28</td>\n",
       "      <td>13</td>\n",
       "      <td>0.649675</td>\n",
       "    </tr>\n",
       "    <tr>\n",
       "      <th>27</th>\n",
       "      <td>22</td>\n",
       "      <td>0.200000</td>\n",
       "      <td>0.040816</td>\n",
       "      <td>0.142857</td>\n",
       "      <td>0.600000</td>\n",
       "      <td>0.777778</td>\n",
       "      <td>False</td>\n",
       "      <td>28</td>\n",
       "      <td>14</td>\n",
       "      <td>0.649467</td>\n",
       "    </tr>\n",
       "    <tr>\n",
       "      <th>28</th>\n",
       "      <td>7</td>\n",
       "      <td>0.011350</td>\n",
       "      <td>0.795918</td>\n",
       "      <td>0.877551</td>\n",
       "      <td>0.866667</td>\n",
       "      <td>0.722222</td>\n",
       "      <td>True</td>\n",
       "      <td>28</td>\n",
       "      <td>0</td>\n",
       "      <td>0.648371</td>\n",
       "    </tr>\n",
       "    <tr>\n",
       "      <th>29</th>\n",
       "      <td>14</td>\n",
       "      <td>0.017100</td>\n",
       "      <td>0.428571</td>\n",
       "      <td>0.979592</td>\n",
       "      <td>1.000000</td>\n",
       "      <td>0.944444</td>\n",
       "      <td>True</td>\n",
       "      <td>28</td>\n",
       "      <td>10</td>\n",
       "      <td>0.648085</td>\n",
       "    </tr>\n",
       "  </tbody>\n",
       "</table>\n",
       "</div>"
      ],
      "text/plain": [
       "   num_leaves  learning_rate  reg_alpha  reg_lambda  colsample_bytree  \\\n",
       "0          20       0.058480   0.632653    0.857143          0.688889   \n",
       "1           9       0.088108   0.244898    0.775510          0.822222   \n",
       "2          16       0.025763   0.979592    0.693878          0.644444   \n",
       "3          12       0.007533   0.653061    0.040816          0.644444   \n",
       "4          22       0.011350   0.469388    0.163265          0.600000   \n",
       "5          19       0.025763   0.816327    0.367347          0.822222   \n",
       "6          14       0.005000   0.387755    0.387755          0.777778   \n",
       "7          19       0.007533   0.448980    0.795918          0.866667   \n",
       "8          13       0.025763   0.714286    0.244898          0.688889   \n",
       "9          13       0.007533   0.224490    0.612245          0.600000   \n",
       "10         19       0.005000   0.612245    0.591837          0.822222   \n",
       "11         18       0.007533   0.510204    1.000000          0.733333   \n",
       "12         21       0.017100   0.816327    0.714286          0.866667   \n",
       "13         23       0.058480   1.000000    0.857143          1.000000   \n",
       "14         16       0.025763   0.183673    0.612245          0.733333   \n",
       "15         11       0.025763   0.714286    0.000000          0.688889   \n",
       "16         23       0.132747   0.591837    0.632653          0.688889   \n",
       "17         10       0.005000   0.612245    0.714286          0.733333   \n",
       "18         23       0.088108   0.857143    0.326531          0.911111   \n",
       "19         20       0.132747   0.612245    0.040816          0.733333   \n",
       "20         22       0.017100   0.714286    0.897959          1.000000   \n",
       "21         10       0.007533   0.775510    0.571429          0.777778   \n",
       "22         11       0.011350   0.367347    0.469388          0.600000   \n",
       "23          7       0.025763   0.122449    0.285714          0.733333   \n",
       "24          5       0.025763   0.510204    0.530612          0.733333   \n",
       "25          5       0.007533   0.510204    0.285714          0.600000   \n",
       "26         14       0.005000   0.163265    0.224490          0.911111   \n",
       "27         22       0.200000   0.040816    0.142857          0.600000   \n",
       "28          7       0.011350   0.795918    0.877551          0.866667   \n",
       "29         14       0.017100   0.428571    0.979592          1.000000   \n",
       "\n",
       "    subsample is_unbalance n_estimators iteration     score  \n",
       "0    0.666667         True           28        23  0.690523  \n",
       "1    0.666667         True           28         2  0.684373  \n",
       "2    1.000000         True           28        22  0.681965  \n",
       "3    0.555556        False           28         7  0.681765  \n",
       "4    0.777778        False           28         4  0.681328  \n",
       "5    0.722222         True           28        21  0.681154  \n",
       "6    0.555556         True           28        11  0.681016  \n",
       "7    0.611111        False           28        20  0.680964  \n",
       "8    0.722222        False           28        15  0.679564  \n",
       "9    0.666667        False           28         8  0.679136  \n",
       "10   0.555556         True           28        16  0.679082  \n",
       "11   0.611111        False           28         6  0.678567  \n",
       "12   0.666667        False           28        29  0.678291  \n",
       "13   1.000000        False           28         3  0.677415  \n",
       "14   0.666667        False           28        26  0.676325  \n",
       "15   1.000000         True           28         1  0.675884  \n",
       "16   0.611111        False           28         5  0.675741  \n",
       "17   0.611111        False           28        27  0.675619  \n",
       "18   0.888889        False           28         9  0.675327  \n",
       "19   0.722222        False           28        24  0.674326  \n",
       "20   0.833333        False           28        25  0.670618  \n",
       "21   0.777778         True           28        28  0.669767  \n",
       "22   0.555556        False           28        19  0.667132  \n",
       "23   0.611111        False           28        17  0.658572  \n",
       "24   0.666667        False           28        12  0.658209  \n",
       "25   0.722222         True           28        18  0.650285  \n",
       "26   0.611111         True           28        13  0.649675  \n",
       "27   0.777778        False           28        14  0.649467  \n",
       "28   0.722222         True           28         0  0.648371  \n",
       "29   0.944444         True           28        10  0.648085  "
      ]
     },
     "execution_count": 20,
     "metadata": {},
     "output_type": "execute_result"
    }
   ],
   "source": [
    "df_search"
   ]
  },
  {
   "cell_type": "code",
   "execution_count": 21,
   "metadata": {
    "ExecuteTime": {
     "end_time": "2022-09-05T03:38:08.459796Z",
     "start_time": "2022-09-05T03:38:07.222321Z"
    }
   },
   "outputs": [
    {
     "name": "stdout",
     "output_type": "stream",
     "text": [
      "[LightGBM] [Warning] Auto-choosing row-wise multi-threading, the overhead of testing was 0.001257 seconds.\n",
      "You can set `force_row_wise=true` to remove the overhead.\n",
      "And if memory is not enough, you can set `force_col_wise=true`.\n",
      "[LightGBM] [Info] Total Bins 3100\n",
      "[LightGBM] [Info] Number of data points in the train set: 8828, number of used features: 60\n",
      "[LightGBM] [Warning] Auto-choosing col-wise multi-threading, the overhead of testing was 0.001522 seconds.\n",
      "You can set `force_col_wise=true` to remove the overhead."
     ]
    },
    {
     "name": "stderr",
     "output_type": "stream",
     "text": [
      "Found `n_estimators` in params. Will use it instead of argument\n"
     ]
    },
    {
     "name": "stdout",
     "output_type": "stream",
     "text": [
      "\n",
      "[LightGBM] [Info] Total Bins 3100\n",
      "[LightGBM] [Info] Number of data points in the train set: 8829, number of used features: 60\n",
      "[LightGBM] [Warning] Auto-choosing row-wise multi-threading, the overhead of testing was 0.001574 seconds.\n",
      "You can set `force_row_wise=true` to remove the overhead.\n",
      "And if memory is not enough, you can set `force_col_wise=true`.\n",
      "[LightGBM] [Info] Total Bins 3100\n",
      "[LightGBM] [Info] Number of data points in the train set: 8829, number of used features: 60\n",
      "[LightGBM] [Warning] Auto-choosing col-wise multi-threading, the overhead of testing was 0.001786 seconds.\n",
      "You can set `force_col_wise=true` to remove the overhead.\n",
      "[LightGBM] [Info] Total Bins 3100\n",
      "[LightGBM] [Info] Number of data points in the train set: 8829, number of used features: 60\n",
      "[LightGBM] [Warning] Auto-choosing col-wise multi-threading, the overhead of testing was 0.001765 seconds.\n",
      "You can set `force_col_wise=true` to remove the overhead.\n",
      "[LightGBM] [Info] Total Bins 3100\n",
      "[LightGBM] [Info] Number of data points in the train set: 8829, number of used features: 60\n",
      "[LightGBM] [Info] Start training from score 0.038174\n",
      "[LightGBM] [Info] Start training from score 0.038283\n",
      "[LightGBM] [Info] Start training from score 0.038283\n",
      "[LightGBM] [Info] Start training from score 0.038283\n",
      "[LightGBM] [Info] Start training from score 0.038170\n",
      "The maximum validation ROC AUC was: 0.69052 with a standard deviation of 0.03421.\n",
      "The optimal number of boosting rounds (estimators) was 28.\n",
      "The baseline model scores 0.63310 ROC AUC on the test set.\n"
     ]
    },
    {
     "data": {
      "image/png": "[encoded data removed]",
      "text/plain": [
       "<Figure size 1440x720 with 1 Axes>"
      ]
     },
     "metadata": {
      "needs_background": "light"
     },
     "output_type": "display_data"
    }
   ],
   "source": [
    "tuned_model, _, _ = fit_lightgbm(trimmed_features,\n",
    "                                 hyperparameters=tuned_hyperparameters,\n",
    "                                 early_stopping=False,\n",
    "                                 plot_importance=True)"
   ]
  },
  {
   "cell_type": "code",
   "execution_count": null,
   "metadata": {},
   "outputs": [],
   "source": []
  }
 ],
 "metadata": {
  "kernelspec": {
   "display_name": "Python 3",
   "language": "python",
   "name": "python3"
  },
  "language_info": {
   "codemirror_mode": {
    "name": "ipython",
    "version": 3
   },
   "file_extension": ".py",
   "mimetype": "text/x-python",
   "name": "python",
   "nbconvert_exporter": "python",
   "pygments_lexer": "ipython3",
   "version": "3.8.3"
  },
  "toc": {
   "base_numbering": 1,
   "nav_menu": {},
   "number_sections": true,
   "sideBar": true,
   "skip_h1_title": false,
   "title_cell": "Table of Contents",
   "title_sidebar": "Contents",
   "toc_cell": false,
   "toc_position": {},
   "toc_section_display": true,
   "toc_window_display": false
  }
 },
 "nbformat": 4,
 "nbformat_minor": 5
}
