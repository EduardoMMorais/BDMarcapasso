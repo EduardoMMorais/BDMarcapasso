{
 "cells": [
  {
   "cell_type": "markdown",
   "id": "9b546a08",
   "metadata": {},
   "source": [
    "# Import"
   ]
  },
  {
   "cell_type": "code",
   "execution_count": 1,
   "id": "6733d35f",
   "metadata": {
    "ExecuteTime": {
     "end_time": "2022-09-04T02:03:17.729737Z",
     "start_time": "2022-09-04T02:03:17.718066Z"
    }
   },
   "outputs": [],
   "source": [
    "TARGET = 'readmission_30d'"
   ]
  },
  {
   "cell_type": "code",
   "execution_count": 2,
   "id": "f6e95bc1",
   "metadata": {
    "ExecuteTime": {
     "end_time": "2022-09-04T02:03:19.418084Z",
     "start_time": "2022-09-04T02:03:17.997613Z"
    }
   },
   "outputs": [],
   "source": [
    "import numpy as np \n",
    "import pandas as pd \n",
    "\n",
    "import os\n",
    "import yaml\n",
    "\n",
    "import lightgbm as lgb\n",
    "\n",
    "from sklearn.datasets import load_iris\n",
    "from sklearn.model_selection import train_test_split\n",
    "from sklearn import metrics\n",
    "from sklearn.metrics import roc_auc_score\n",
    "\n",
    "from tqdm.notebook import tqdm"
   ]
  },
  {
   "cell_type": "markdown",
   "id": "97d18f04",
   "metadata": {},
   "source": [
    "# Load"
   ]
  },
  {
   "cell_type": "code",
   "execution_count": 3,
   "id": "6a559af7",
   "metadata": {
    "ExecuteTime": {
     "end_time": "2022-09-04T02:03:19.684495Z",
     "start_time": "2022-09-04T02:03:19.419026Z"
    },
    "scrolled": true
   },
   "outputs": [
    {
     "data": {
      "text/html": [
       "<div>\n",
       "<style scoped>\n",
       "    .dataframe tbody tr th:only-of-type {\n",
       "        vertical-align: middle;\n",
       "    }\n",
       "\n",
       "    .dataframe tbody tr th {\n",
       "        vertical-align: top;\n",
       "    }\n",
       "\n",
       "    .dataframe thead th {\n",
       "        text-align: right;\n",
       "    }\n",
       "</style>\n",
       "<table border=\"1\" class=\"dataframe\">\n",
       "  <thead>\n",
       "    <tr style=\"text-align: right;\">\n",
       "      <th></th>\n",
       "      <th>Unnamed: 0</th>\n",
       "      <th>sex</th>\n",
       "      <th>dob</th>\n",
       "      <th>age</th>\n",
       "      <th>race</th>\n",
       "      <th>education_level</th>\n",
       "      <th>zipcode</th>\n",
       "      <th>patient_city</th>\n",
       "      <th>patient_state</th>\n",
       "      <th>underlying_heart_disease</th>\n",
       "      <th>...</th>\n",
       "      <th>n_procedure_180d</th>\n",
       "      <th>n_procedure_1year</th>\n",
       "      <th>classe_meds_cardio_qtde</th>\n",
       "      <th>meds_cardiovasc_qtde</th>\n",
       "      <th>meds_antimicrobianos</th>\n",
       "      <th>nyha_basal_group</th>\n",
       "      <th>cied_final_group_1</th>\n",
       "      <th>procedure_type_new</th>\n",
       "      <th>hospital_stay</th>\n",
       "      <th>split</th>\n",
       "    </tr>\n",
       "  </thead>\n",
       "  <tbody>\n",
       "    <tr>\n",
       "      <th>0</th>\n",
       "      <td>1</td>\n",
       "      <td>1</td>\n",
       "      <td>1966-01-23</td>\n",
       "      <td>44.6</td>\n",
       "      <td>1.0</td>\n",
       "      <td>2.0</td>\n",
       "      <td>3343010</td>\n",
       "      <td>SAO PAULO</td>\n",
       "      <td>35.0</td>\n",
       "      <td>1.0</td>\n",
       "      <td>...</td>\n",
       "      <td>0</td>\n",
       "      <td>0</td>\n",
       "      <td>3.0</td>\n",
       "      <td>6.0</td>\n",
       "      <td>3.0</td>\n",
       "      <td>1.0</td>\n",
       "      <td>1</td>\n",
       "      <td>2</td>\n",
       "      <td>1</td>\n",
       "      <td>train</td>\n",
       "    </tr>\n",
       "    <tr>\n",
       "      <th>1</th>\n",
       "      <td>2</td>\n",
       "      <td>1</td>\n",
       "      <td>1961-09-29</td>\n",
       "      <td>51.1</td>\n",
       "      <td>1.0</td>\n",
       "      <td>4.0</td>\n",
       "      <td>71505275</td>\n",
       "      <td>BRASILIA</td>\n",
       "      <td>53.0</td>\n",
       "      <td>1.0</td>\n",
       "      <td>...</td>\n",
       "      <td>0</td>\n",
       "      <td>0</td>\n",
       "      <td>NaN</td>\n",
       "      <td>0.0</td>\n",
       "      <td>4.0</td>\n",
       "      <td>1.0</td>\n",
       "      <td>1</td>\n",
       "      <td>1</td>\n",
       "      <td>2</td>\n",
       "      <td>train</td>\n",
       "    </tr>\n",
       "    <tr>\n",
       "      <th>2</th>\n",
       "      <td>3</td>\n",
       "      <td>0</td>\n",
       "      <td>1945-08-09</td>\n",
       "      <td>60.1</td>\n",
       "      <td>1.0</td>\n",
       "      <td>4.0</td>\n",
       "      <td>71015068</td>\n",
       "      <td>BRASILIA</td>\n",
       "      <td>53.0</td>\n",
       "      <td>1.0</td>\n",
       "      <td>...</td>\n",
       "      <td>0</td>\n",
       "      <td>0</td>\n",
       "      <td>NaN</td>\n",
       "      <td>0.0</td>\n",
       "      <td>0.0</td>\n",
       "      <td>1.0</td>\n",
       "      <td>1</td>\n",
       "      <td>2</td>\n",
       "      <td>1</td>\n",
       "      <td>train</td>\n",
       "    </tr>\n",
       "    <tr>\n",
       "      <th>3</th>\n",
       "      <td>4</td>\n",
       "      <td>1</td>\n",
       "      <td>1948-01-25</td>\n",
       "      <td>61.0</td>\n",
       "      <td>1.0</td>\n",
       "      <td>4.0</td>\n",
       "      <td>70753010</td>\n",
       "      <td>BRASILIA</td>\n",
       "      <td>53.0</td>\n",
       "      <td>2.0</td>\n",
       "      <td>...</td>\n",
       "      <td>0</td>\n",
       "      <td>0</td>\n",
       "      <td>NaN</td>\n",
       "      <td>0.0</td>\n",
       "      <td>8.0</td>\n",
       "      <td>1.0</td>\n",
       "      <td>1</td>\n",
       "      <td>1</td>\n",
       "      <td>2</td>\n",
       "      <td>train</td>\n",
       "    </tr>\n",
       "    <tr>\n",
       "      <th>4</th>\n",
       "      <td>5</td>\n",
       "      <td>1</td>\n",
       "      <td>1934-10-06</td>\n",
       "      <td>69.1</td>\n",
       "      <td>1.0</td>\n",
       "      <td>999.0</td>\n",
       "      <td>70386110</td>\n",
       "      <td>BRASILIA</td>\n",
       "      <td>53.0</td>\n",
       "      <td>NaN</td>\n",
       "      <td>...</td>\n",
       "      <td>0</td>\n",
       "      <td>0</td>\n",
       "      <td>NaN</td>\n",
       "      <td>NaN</td>\n",
       "      <td>NaN</td>\n",
       "      <td>NaN</td>\n",
       "      <td>1</td>\n",
       "      <td>1</td>\n",
       "      <td>8</td>\n",
       "      <td>train</td>\n",
       "    </tr>\n",
       "  </tbody>\n",
       "</table>\n",
       "<p>5 rows × 242 columns</p>\n",
       "</div>"
      ],
      "text/plain": [
       "   Unnamed: 0  sex         dob   age  race  education_level   zipcode  \\\n",
       "0           1    1  1966-01-23  44.6   1.0              2.0   3343010   \n",
       "1           2    1  1961-09-29  51.1   1.0              4.0  71505275   \n",
       "2           3    0  1945-08-09  60.1   1.0              4.0  71015068   \n",
       "3           4    1  1948-01-25  61.0   1.0              4.0  70753010   \n",
       "4           5    1  1934-10-06  69.1   1.0            999.0  70386110   \n",
       "\n",
       "  patient_city  patient_state  underlying_heart_disease  ...  \\\n",
       "0    SAO PAULO           35.0                       1.0  ...   \n",
       "1     BRASILIA           53.0                       1.0  ...   \n",
       "2     BRASILIA           53.0                       1.0  ...   \n",
       "3     BRASILIA           53.0                       2.0  ...   \n",
       "4     BRASILIA           53.0                       NaN  ...   \n",
       "\n",
       "   n_procedure_180d  n_procedure_1year  classe_meds_cardio_qtde  \\\n",
       "0                 0                  0                      3.0   \n",
       "1                 0                  0                      NaN   \n",
       "2                 0                  0                      NaN   \n",
       "3                 0                  0                      NaN   \n",
       "4                 0                  0                      NaN   \n",
       "\n",
       "   meds_cardiovasc_qtde  meds_antimicrobianos  nyha_basal_group  \\\n",
       "0                   6.0                   3.0               1.0   \n",
       "1                   0.0                   4.0               1.0   \n",
       "2                   0.0                   0.0               1.0   \n",
       "3                   0.0                   8.0               1.0   \n",
       "4                   NaN                   NaN               NaN   \n",
       "\n",
       "   cied_final_group_1  procedure_type_new  hospital_stay  split  \n",
       "0                   1                   2              1  train  \n",
       "1                   1                   1              2  train  \n",
       "2                   1                   2              1  train  \n",
       "3                   1                   1              2  train  \n",
       "4                   1                   1              8  train  \n",
       "\n",
       "[5 rows x 242 columns]"
      ]
     },
     "execution_count": 3,
     "metadata": {},
     "output_type": "execute_result"
    }
   ],
   "source": [
    "df_raw = pd.read_csv(\"dataset/processed_data.csv\", dtype={'date_procedure_9': 'str', 'date_procedure_10': 'str'})\n",
    "df_raw.head()"
   ]
  },
  {
   "cell_type": "code",
   "execution_count": 4,
   "id": "0d67f7e1",
   "metadata": {
    "ExecuteTime": {
     "end_time": "2022-09-04T02:03:19.977855Z",
     "start_time": "2022-09-04T02:03:19.958001Z"
    }
   },
   "outputs": [],
   "source": [
    "with open(\"auxiliar/significant_columns/categorical_{}.yaml\".format(TARGET), \"r\") as stream:\n",
    "    try:\n",
    "        initial_cat_features = yaml.safe_load(stream)\n",
    "    except yaml.YAMLError as exc:\n",
    "        print(exc)\n",
    "        \n",
    "with open(\"auxiliar/significant_columns/numerical_{}.yaml\".format(TARGET), \"r\") as stream:\n",
    "    try:\n",
    "        initial_num_features = yaml.safe_load(stream)\n",
    "    except yaml.YAMLError as exc:\n",
    "        print(exc)\n",
    "        \n",
    "initial_features = initial_cat_features + initial_num_features"
   ]
  },
  {
   "cell_type": "code",
   "execution_count": 5,
   "id": "ebcc4515",
   "metadata": {},
   "outputs": [],
   "source": [
    "exception_columns = ['death_intraop', 'death_intraop_1', 'disch_outcomes_t0']\n",
    "\n",
    "correlated_columns = ['year_procedure_1', # com year_adm_t0\n",
    "                       'age_surgery_1', # com age\n",
    "                       'admission_t0', # com admission_pre_t0_count\n",
    "                       'atb', # com meds_antimicrobianos\n",
    "                       'classe_meds_cardio_qtde', # com classe_meds_qtde\n",
    "                       'suporte_hemod', # com proced_invasivos_qtde,\n",
    "                       'radiografia', # com exames_imagem_qtde\n",
    "                       'ecg' # com metodos_graficos_qtde\n",
    "                     ]\n",
    "\n",
    "initial_features = list(set(initial_features) - set(exception_columns + correlated_columns))"
   ]
  },
  {
   "cell_type": "markdown",
   "id": "5025eda3",
   "metadata": {},
   "source": [
    "# Split"
   ]
  },
  {
   "cell_type": "code",
   "execution_count": 6,
   "id": "bcb64589",
   "metadata": {
    "ExecuteTime": {
     "end_time": "2022-09-04T02:03:21.255852Z",
     "start_time": "2022-09-04T02:03:21.230741Z"
    }
   },
   "outputs": [],
   "source": [
    "X_df = df_raw[initial_features]\n",
    "y_df = df_raw[TARGET]\n",
    "\n",
    "X_train, X_test, y_train, y_test = train_test_split(X_df, y_df,\n",
    "                                                    test_size = 0.3,\n",
    "                                                    random_state = 0,\n",
    "                                                    stratify = y_df)"
   ]
  },
  {
   "cell_type": "code",
   "execution_count": 7,
   "id": "1a7d244b",
   "metadata": {
    "ExecuteTime": {
     "end_time": "2022-09-04T02:03:21.754844Z",
     "start_time": "2022-09-04T02:03:21.748613Z"
    }
   },
   "outputs": [
    {
     "name": "stdout",
     "output_type": "stream",
     "text": [
      "Training features shape:  (11036, 76)\n",
      "Testing features shape:  (4730, 76)\n"
     ]
    }
   ],
   "source": [
    "print(\"Training features shape: \", X_train.shape)\n",
    "print(\"Testing features shape: \", X_test.shape)"
   ]
  },
  {
   "cell_type": "markdown",
   "id": "557a1ab6",
   "metadata": {},
   "source": [
    "# Baseline"
   ]
  },
  {
   "cell_type": "code",
   "execution_count": 8,
   "id": "85b1a583",
   "metadata": {
    "ExecuteTime": {
     "end_time": "2022-09-04T02:03:31.688818Z",
     "start_time": "2022-09-04T02:03:31.685816Z"
    }
   },
   "outputs": [],
   "source": [
    "N_FOLDS = 5\n",
    "MAX_EVALS = 5"
   ]
  },
  {
   "cell_type": "code",
   "execution_count": 9,
   "id": "07dc517f",
   "metadata": {
    "ExecuteTime": {
     "end_time": "2022-09-04T02:03:38.465021Z",
     "start_time": "2022-09-04T02:03:38.447471Z"
    }
   },
   "outputs": [],
   "source": [
    "train_set = lgb.Dataset(data=X_train, label = y_train, free_raw_data = False)\n",
    "test_set = lgb.Dataset(data = X_test, label = y_test, free_raw_data = False)"
   ]
  },
  {
   "cell_type": "code",
   "execution_count": 10,
   "id": "92d660d5",
   "metadata": {
    "ExecuteTime": {
     "end_time": "2022-09-04T02:04:51.282838Z",
     "start_time": "2022-09-04T02:04:49.485876Z"
    }
   },
   "outputs": [
    {
     "name": "stdout",
     "output_type": "stream",
     "text": [
      "[LightGBM] [Warning] Auto-choosing row-wise multi-threading, the overhead of testing was 0.002203 seconds.\n",
      "You can set `force_row_wise=true` to remove the overhead.\n",
      "And if memory is not enough, you can set `force_col_wise=true`.\n",
      "[LightGBM] [Info] Total Bins 3178\n",
      "[LightGBM] [Info] Number of data points in the train set: 8828, number of used features: 73\n",
      "[LightGBM] [Warning] Auto-choosing row-wise multi-threading, the overhead of testing was 0.001371 seconds.\n",
      "You can set `force_row_wise=true` to remove the overhead.\n",
      "And if memory is not enough, you can set `force_col_wise=true`.\n",
      "[LightGBM] [Info] Total Bins 3178\n",
      "[LightGBM] [Info] Number of data points in the train set: 8829, number of used features: 73\n",
      "[LightGBM] [Warning] Auto-choosing col-wise multi-threading, the overhead of testing was 0.004152 seconds.\n",
      "You can set `force_col_wise=true` to remove the overhead.\n",
      "[LightGBM] [Info] Total Bins 3178\n",
      "[LightGBM] [Info] Number of data points in the train set: 8829, number of used features: 73\n",
      "[LightGBM] [Warning] Auto-choosing col-wise multi-threading, the overhead of testing was 0.003522 seconds.\n",
      "You can set `force_col_wise=true` to remove the overhead.\n",
      "[LightGBM] [Info] Total Bins 3178\n",
      "[LightGBM] [Info] Number of data points in the train set: 8829, number of used features: 73\n",
      "[LightGBM] [Warning] Auto-choosing col-wise multi-threading, the overhead of testing was 0.003642 seconds.\n",
      "You can set `force_col_wise=true` to remove the overhead.\n",
      "[LightGBM] [Info] Total Bins 3178\n",
      "[LightGBM] [Info] Number of data points in the train set: 8829, number of used features: 73\n",
      "[LightGBM] [Info] Start training from score 0.038174\n",
      "[LightGBM] [Info] Start training from score 0.038283\n",
      "[LightGBM] [Info] Start training from score 0.038283\n",
      "[LightGBM] [Info] Start training from score 0.038283\n",
      "[LightGBM] [Info] Start training from score 0.038170\n",
      "Training until validation scores don't improve for 200 rounds\n",
      "Early stopping, best iteration is:\n",
      "[58]\tcv_agg's auc: 0.67453 + 0.0456924\n"
     ]
    }
   ],
   "source": [
    "# Get default hyperparameters\n",
    "model = lgb.LGBMClassifier()\n",
    "default_params = model.get_params()\n",
    "\n",
    "# Remove the number of estimators because we set this to 10000 in the cv call\n",
    "del default_params['n_estimators']\n",
    "del default_params['importance_type']\n",
    "del default_params['silent']\n",
    "\n",
    "# Cross validation with early stopping\n",
    "cv_results = lgb.cv(default_params, train_set, num_boost_round = 10000,\n",
    "                    callbacks=[lgb.early_stopping(stopping_rounds = 200)], \n",
    "                    metrics = 'auc', nfold = N_FOLDS, seed = 314)"
   ]
  },
  {
   "cell_type": "code",
   "execution_count": 11,
   "id": "29b33800",
   "metadata": {
    "ExecuteTime": {
     "end_time": "2022-09-04T02:04:52.471725Z",
     "start_time": "2022-09-04T02:04:52.459724Z"
    }
   },
   "outputs": [
    {
     "name": "stdout",
     "output_type": "stream",
     "text": [
      "The maximum validation ROC AUC was: 0.67453 with a standard deviation of 0.04569.\n",
      "The optimal number of boosting rounds (estimators) was 58.\n"
     ]
    }
   ],
   "source": [
    "print('The maximum validation ROC AUC was: {:.5f} with a standard deviation of {:.5f}.'.format(cv_results['auc-mean'][-1], cv_results['auc-stdv'][-1]))\n",
    "print('The optimal number of boosting rounds (estimators) was {}.'.format(len(cv_results['auc-mean'])))"
   ]
  },
  {
   "cell_type": "code",
   "execution_count": 12,
   "id": "86c47a0f",
   "metadata": {
    "ExecuteTime": {
     "end_time": "2022-09-04T02:04:53.880336Z",
     "start_time": "2022-09-04T02:04:53.761738Z"
    }
   },
   "outputs": [
    {
     "name": "stdout",
     "output_type": "stream",
     "text": [
      "The baseline model scores 0.63461 ROC AUC on the test set.\n"
     ]
    }
   ],
   "source": [
    "# Optimal number of esimators found in cv\n",
    "model.n_estimators = len(cv_results['auc-mean'])\n",
    "# model.n_estimators = 80\n",
    "\n",
    "# Train and make predicions with model\n",
    "model.fit(X_train, y_train)\n",
    "preds = model.predict_proba(X_test)[:, 1]\n",
    "baseline_auc = roc_auc_score(y_test, preds)\n",
    "\n",
    "print('The baseline model scores {:.5f} ROC AUC on the test set.'.format(baseline_auc))"
   ]
  },
  {
   "cell_type": "code",
   "execution_count": 13,
   "id": "e50696a1",
   "metadata": {},
   "outputs": [
    {
     "name": "stdout",
     "output_type": "stream",
     "text": [
      "[53. 29. 80.  1.  0.  0. 53.  0.  9.  0. 62.  6.  2.  6. 75. 18. 36. 33.\n",
      "  9. 17.  6. 79.  5.  3.  9. 55. 17.  8.  0.  0.  4.  8. 88.  0.  5. 17.\n",
      " 10.  0.  0.  5.  6.  0. 61. 11. 19. 16.  1. 63. 20. 17.  3. 26. 57.  8.\n",
      " 51. 17.  6.  1.  2. 14.  0. 50. 45. 38. 19. 21.  8. 60. 46. 10. 44.  2.\n",
      "  1. 68. 60. 61.]\n"
     ]
    }
   ],
   "source": [
    "feature_importances = np.zeros(X_test.shape[1])\n",
    "feature_importances += model.feature_importances_\n",
    "print(feature_importances)"
   ]
  },
  {
   "cell_type": "code",
   "execution_count": 14,
   "id": "0734e3b3",
   "metadata": {},
   "outputs": [
    {
     "data": {
      "image/png": "[encoded data removed]",
      "text/plain": [
       "<Figure size 864x1584 with 1 Axes>"
      ]
     },
     "metadata": {
      "needs_background": "light"
     },
     "output_type": "display_data"
    }
   ],
   "source": [
    "import matplotlib.pyplot as plt\n",
    "plt.rcParams[\"figure.figsize\"] = (12, 22)\n",
    "lgb.plot_importance(model, max_num_features = 10, height=.9)\n",
    "plt.show()"
   ]
  },
  {
   "cell_type": "code",
   "execution_count": 15,
   "id": "2a0d9cbe",
   "metadata": {},
   "outputs": [
    {
     "data": {
      "text/plain": [
       "27"
      ]
     },
     "execution_count": 15,
     "metadata": {},
     "output_type": "execute_result"
    }
   ],
   "source": [
    "It = 20\n",
    "df_prot_train = X_train.iloc[:, feature_importances>=It]\n",
    "ds_prot_train = lgb.Dataset(data = df_prot_train, label = y_train, free_raw_data = False)\n",
    "\n",
    "df_prot_test = X_test.iloc[:, feature_importances>=It]\n",
    "ds_prot_test = lgb.Dataset(data = df_prot_test, label = y_test, free_raw_data = False)\n",
    "sum(feature_importances>=It)"
   ]
  },
  {
   "cell_type": "code",
   "execution_count": 16,
   "id": "c17d636d",
   "metadata": {},
   "outputs": [
    {
     "name": "stdout",
     "output_type": "stream",
     "text": [
      "[LightGBM] [Warning] Auto-choosing col-wise multi-threading, the overhead of testing was 0.006068 seconds.\n",
      "You can set `force_col_wise=true` to remove the overhead.\n",
      "[LightGBM] [Info] Total Bins 2464\n",
      "[LightGBM] [Info] Number of data points in the train set: 8828, number of used features: 27\n",
      "[LightGBM] [Warning] Auto-choosing row-wise multi-threading, the overhead of testing was 0.001174 seconds.\n",
      "You can set `force_row_wise=true` to remove the overhead.\n",
      "And if memory is not enough, you can set `force_col_wise=true`.\n",
      "[LightGBM] [Info] Total Bins 2464\n",
      "[LightGBM] [Info] Number of data points in the train set: 8829, number of used features: 27\n",
      "[LightGBM] [Warning] Auto-choosing col-wise multi-threading, the overhead of testing was 0.001661 seconds.\n",
      "You can set `force_col_wise=true` to remove the overhead.\n",
      "[LightGBM] [Info] Total Bins 2464\n",
      "[LightGBM] [Info] Number of data points in the train set: 8829, number of used features: 27\n",
      "[LightGBM] [Warning] Auto-choosing col-wise multi-threading, the overhead of testing was 0.001612 seconds.\n",
      "You can set `force_col_wise=true` to remove the overhead.\n",
      "[LightGBM] [Info] Total Bins 2464\n",
      "[LightGBM] [Info] Number of data points in the train set: 8829, number of used features: 27\n",
      "[LightGBM] [Warning] Auto-choosing col-wise multi-threading, the overhead of testing was 0.001909 seconds.\n",
      "You can set `force_col_wise=true` to remove the overhead.\n",
      "[LightGBM] [Info] Total Bins 2464\n",
      "[LightGBM] [Info] Number of data points in the train set: 8829, number of used features: 27\n",
      "[LightGBM] [Info] Start training from score 0.038174\n",
      "[LightGBM] [Info] Start training from score 0.038283\n",
      "[LightGBM] [Info] Start training from score 0.038283\n",
      "[LightGBM] [Info] Start training from score 0.038283\n",
      "[LightGBM] [Info] Start training from score 0.038170\n",
      "Training until validation scores don't improve for 200 rounds\n",
      "Early stopping, best iteration is:\n",
      "[15]\tcv_agg's auc: 0.677343 + 0.0222186\n"
     ]
    }
   ],
   "source": [
    "# Get default hyperparameters\n",
    "clf = lgb.LGBMClassifier()\n",
    "default_params = clf.get_params()\n",
    "\n",
    "# Remove the number of estimators because we set this to 10000 in the cv call\n",
    "del default_params['n_estimators']\n",
    "del default_params['importance_type']\n",
    "del default_params['silent']\n",
    "\n",
    "# Cross validation with early stopping\n",
    "cv_results = lgb.cv(default_params, ds_prot_train, num_boost_round = 10000,\n",
    "                    callbacks=[lgb.early_stopping(stopping_rounds = 200)], \n",
    "                    metrics = 'auc', nfold = N_FOLDS, seed = 314)"
   ]
  },
  {
   "cell_type": "code",
   "execution_count": 17,
   "id": "01996fc3",
   "metadata": {},
   "outputs": [
    {
     "name": "stdout",
     "output_type": "stream",
     "text": [
      "The baseline model scores 0.65907 ROC AUC on the test set.\n"
     ]
    }
   ],
   "source": [
    "# Optimal number of esimators found in cv\n",
    "clf.n_estimators = len(cv_results['auc-mean'])\n",
    "# model.n_estimators = 80\n",
    "\n",
    "# Train and make predicions with model\n",
    "print\n",
    "clf.fit(df_prot_train, y_train)\n",
    "preds = clf.predict_proba(df_prot_test)[:, 1]\n",
    "baseline_auc = roc_auc_score(y_test, preds)\n",
    "\n",
    "print('The baseline model scores {:.5f} ROC AUC on the test set.'.format(baseline_auc))"
   ]
  },
  {
   "cell_type": "markdown",
   "id": "ec53c544",
   "metadata": {},
   "source": [
    "# Hyperparameter Tuning"
   ]
  },
  {
   "cell_type": "code",
   "execution_count": 18,
   "id": "4b1f0bb4",
   "metadata": {
    "ExecuteTime": {
     "end_time": "2022-09-04T02:46:47.796078Z",
     "start_time": "2022-09-04T02:46:47.780917Z"
    }
   },
   "outputs": [],
   "source": [
    "def objective(train_set, hyperparameters, iteration):\n",
    "    \"\"\"Objective function for grid and random search. Returns\n",
    "       the cross validation score from a set of hyperparameters.\"\"\"\n",
    "    \n",
    "    # Number of estimators will be found using early stopping\n",
    "    if 'n_estimators' in hyperparameters.keys():\n",
    "        del hyperparameters['n_estimators']\n",
    "    \n",
    "     # Perform n_folds cross validation\n",
    "    cv_results = lgb.cv(hyperparameters, train_set, num_boost_round = 10000, nfold = N_FOLDS, \n",
    "                        callbacks=[lgb.early_stopping(stopping_rounds = 200)], metrics = 'auc', seed = 42)\n",
    "    \n",
    "    # results to retun\n",
    "    score = cv_results['auc-mean'][-1]\n",
    "    estimators = len(cv_results['auc-mean'])\n",
    "    hyperparameters['n_estimators'] = estimators \n",
    "    \n",
    "    return [score, hyperparameters, iteration]"
   ]
  },
  {
   "cell_type": "code",
   "execution_count": 19,
   "id": "643c6b5c",
   "metadata": {
    "ExecuteTime": {
     "end_time": "2022-09-04T04:47:54.221417Z",
     "start_time": "2022-09-04T04:47:54.209424Z"
    }
   },
   "outputs": [],
   "source": [
    "import itertools\n",
    "import random\n",
    "\n",
    "def random_search(train_set, param_grid, max_evals = MAX_EVALS):\n",
    "    \"\"\"Random search for hyperparameter optimization\"\"\"\n",
    "    \n",
    "    # Dataframe for results\n",
    "    results = pd.DataFrame(columns = ['score', 'hyperparameters', 'iteration'],\n",
    "                                  index = list(range(MAX_EVALS)))\n",
    "    \n",
    "    # Keep searching until reach max evaluations\n",
    "    for i in tqdm(range(MAX_EVALS)):\n",
    "        \n",
    "        # Choose random hyperparameters\n",
    "        hyperparameters = {k: random.sample(v, 1)[0] for k, v in param_grid.items()}\n",
    "        hyperparameters['subsample'] = 1.0 if hyperparameters['boosting_type'] == 'goss' else hyperparameters['subsample']\n",
    "\n",
    "        # Evaluate randomly selected hyperparameters\n",
    "        eval_results = objective(train_set, hyperparameters, i)\n",
    "        \n",
    "        results.loc[i, :] = eval_results\n",
    "    \n",
    "    # Sort with best score on top\n",
    "    results.sort_values('score', ascending = False, inplace = True)\n",
    "    results.reset_index(inplace = True)\n",
    "    return results "
   ]
  },
  {
   "cell_type": "code",
   "execution_count": 23,
   "id": "765d06c4",
   "metadata": {
    "ExecuteTime": {
     "end_time": "2022-09-04T04:47:55.059118Z",
     "start_time": "2022-09-04T04:47:55.049118Z"
    }
   },
   "outputs": [],
   "source": [
    "# Hyperparameter grid\n",
    "param_grid = {\n",
    "    'boosting_type': ['gbdt', 'goss', 'dart'],\n",
    "    'num_leaves': list(range(5, 25)),\n",
    "    'learning_rate': list(np.logspace(np.log10(0.005), np.log10(0.5), base = 10, num = 1000)),\n",
    "    'subsample_for_bin': list(range(20000, 300000, 20000)),\n",
    "    'min_child_samples': list(range(20, 500, 5)),\n",
    "    'reg_alpha': list(np.linspace(0, 1)),\n",
    "    'reg_lambda': list(np.linspace(0, 1)),\n",
    "    'colsample_bytree': list(np.linspace(0.6, 1, 10)),\n",
    "    'subsample': list(np.linspace(0.5, 1, 100)),\n",
    "    'is_unbalance': [True, False]\n",
    "}"
   ]
  },
  {
   "cell_type": "code",
   "execution_count": null,
   "id": "7c4a36b5",
   "metadata": {
    "ExecuteTime": {
     "end_time": "2022-09-04T04:48:10.648590Z",
     "start_time": "2022-09-04T04:47:56.870629Z"
    },
    "scrolled": true
   },
   "outputs": [
    {
     "data": {
      "application/vnd.jupyter.widget-view+json": {
       "model_id": "afd3a72eb1e5441190ef53d56c08ab6b",
       "version_major": 2,
       "version_minor": 0
      },
      "text/plain": [
       "  0%|          | 0/5 [00:00<?, ?it/s]"
      ]
     },
     "metadata": {},
     "output_type": "display_data"
    },
    {
     "name": "stdout",
     "output_type": "stream",
     "text": [
      "[LightGBM] [Warning] Auto-choosing col-wise multi-threading, the overhead of testing was 0.002067 seconds.\n",
      "You can set `force_col_wise=true` to remove the overhead.\n",
      "[LightGBM] [Info] Total Bins 2464\n",
      "[LightGBM] [Info] Number of data points in the train set: 8828, number of used features: 27\n",
      "[LightGBM] [Warning] Auto-choosing row-wise multi-threading, the overhead of testing was 0.001053 seconds.\n",
      "You can set `force_row_wise=true` to remove the overhead.\n",
      "And if memory is not enough, you can set `force_col_wise=true`.\n",
      "[LightGBM] [Info] Total Bins 2464\n",
      "[LightGBM] [Info] Number of data points in the train set: 8829, number of used features: 27\n",
      "[LightGBM] [Warning] Auto-choosing row-wise multi-threading, the overhead of testing was 0.002062 seconds.\n",
      "You can set `force_row_wise=true` to remove the overhead.\n",
      "And if memory is not enough, you can set `force_col_wise=true`.\n",
      "[LightGBM] [Info] Total Bins 2464\n",
      "[LightGBM] [Info] Number of data points in the train set: 8829, number of used features: 27\n",
      "[LightGBM] [Warning] Auto-choosing col-wise multi-threading, the overhead of testing was 0.002378 seconds.\n",
      "You can set `force_col_wise=true` to remove the overhead.\n",
      "[LightGBM] [Info] Total Bins 2464\n",
      "[LightGBM] [Info] Number of data points in the train set: 8829, number of used features: 27\n",
      "[LightGBM] [Warning] Auto-choosing col-wise multi-threading, the overhead of testing was 0.002062 seconds.\n",
      "You can set `force_col_wise=true` to remove the overhead.\n",
      "[LightGBM] [Info] Total Bins 2464\n",
      "[LightGBM] [Info] Number of data points in the train set: 8829, number of used features: 27\n",
      "[LightGBM] [Info] Start training from score 0.038174\n",
      "[LightGBM] [Info] Start training from score 0.038283\n",
      "[LightGBM] [Info] Start training from score 0.038283\n",
      "[LightGBM] [Info] Start training from score 0.038283\n",
      "[LightGBM] [Info] Start training from score 0.038170\n"
     ]
    },
    {
     "name": "stderr",
     "output_type": "stream",
     "text": [
      "C:\\Users\\p_mat\\anaconda3\\lib\\site-packages\\lightgbm\\callback.py:223: UserWarning: Early stopping is not available in dart mode\n",
      "  _log_warning('Early stopping is not available in dart mode')\n"
     ]
    }
   ],
   "source": [
    "random_results = random_search(ds_prot_train, param_grid)\n",
    "\n",
    "print('The best validation score was {:.5f}'.format(random_results.loc[0, 'score']))\n",
    "print('\\nThe best hyperparameters were:')\n",
    "\n",
    "import pprint\n",
    "pprint.pprint(random_results.loc[0, 'hyperparameters'])"
   ]
  },
  {
   "cell_type": "code",
   "execution_count": 59,
   "id": "2f760f2a",
   "metadata": {
    "ExecuteTime": {
     "end_time": "2022-09-04T04:48:10.649590Z",
     "start_time": "2022-09-04T04:48:04.148Z"
    }
   },
   "outputs": [
    {
     "name": "stdout",
     "output_type": "stream",
     "text": [
      "The best model from random search scores 0.80904 ROC AUC on the test set.\n"
     ]
    }
   ],
   "source": [
    "# Get the best parameters\n",
    "random_search_params = random_results.loc[0, 'hyperparameters']\n",
    "\n",
    "# Create, train, test model\n",
    "model = lgb.LGBMClassifier(**random_search_params, random_state = 42)\n",
    "model.fit(X_train, y_train)\n",
    "\n",
    "preds = model.predict_proba(X_test)[:, 1]\n",
    "\n",
    "print('The best model from random search scores {:.5f} ROC AUC on the test set.'.format(roc_auc_score(y_test, preds)))"
   ]
  },
  {
   "cell_type": "code",
   "execution_count": 60,
   "id": "f1c8542c",
   "metadata": {
    "ExecuteTime": {
     "end_time": "2022-09-04T04:48:10.650590Z",
     "start_time": "2022-09-04T04:48:05.561Z"
    }
   },
   "outputs": [
    {
     "data": {
      "text/plain": [
       "array([{'boosting_type': 'goss', 'num_leaves': 8, 'learning_rate': 0.005715155645572393, 'subsample_for_bin': 200000, 'min_child_samples': 425, 'reg_alpha': 0.2857142857142857, 'reg_lambda': 0.9387755102040816, 'colsample_bytree': 0.6888888888888889, 'subsample': 1.0, 'is_unbalance': True, 'n_estimators': 2661},\n",
       "       {'boosting_type': 'gbdt', 'num_leaves': 12, 'learning_rate': 0.3538505330590944, 'subsample_for_bin': 180000, 'min_child_samples': 380, 'reg_alpha': 0.4693877551020408, 'reg_lambda': 0.7755102040816326, 'colsample_bytree': 0.9555555555555555, 'subsample': 0.6717171717171717, 'is_unbalance': False, 'n_estimators': 13},\n",
       "       {'boosting_type': 'gbdt', 'num_leaves': 10, 'learning_rate': 0.3791838957498595, 'subsample_for_bin': 260000, 'min_child_samples': 380, 'reg_alpha': 0.6122448979591836, 'reg_lambda': 0.4081632653061224, 'colsample_bytree': 0.7333333333333333, 'subsample': 0.6565656565656566, 'is_unbalance': True, 'n_estimators': 38},\n",
       "       {'boosting_type': 'gbdt', 'num_leaves': 12, 'learning_rate': 0.4580701228569258, 'subsample_for_bin': 160000, 'min_child_samples': 55, 'reg_alpha': 0.8163265306122448, 'reg_lambda': 0.3469387755102041, 'colsample_bytree': 0.9555555555555555, 'subsample': 0.9444444444444444, 'is_unbalance': False, 'n_estimators': 13},\n",
       "       {'boosting_type': 'dart', 'num_leaves': 5, 'learning_rate': 0.11437454086778513, 'subsample_for_bin': 20000, 'min_child_samples': 40, 'reg_alpha': 0.2857142857142857, 'reg_lambda': 0.7142857142857142, 'colsample_bytree': 0.7333333333333333, 'subsample': 0.6464646464646464, 'is_unbalance': False, 'n_estimators': 10000}],\n",
       "      dtype=object)"
      ]
     },
     "execution_count": 60,
     "metadata": {},
     "output_type": "execute_result"
    }
   ],
   "source": [
    "pd.options.display.max_colwidth = 100\n",
    "random_results['hyperparameters'].values"
   ]
  },
  {
   "cell_type": "code",
   "execution_count": 61,
   "id": "6163a9fd",
   "metadata": {
    "ExecuteTime": {
     "end_time": "2022-09-04T04:48:11.105334Z",
     "start_time": "2022-09-04T04:48:11.094365Z"
    }
   },
   "outputs": [],
   "source": [
    "def evaluate(results, name):\n",
    "    \"\"\"Evaluate model on test data using hyperparameters in results\n",
    "       Return dataframe of hyperparameters\"\"\"\n",
    "        \n",
    "    # Sort with best values on top\n",
    "    results = results.sort_values('score', ascending = False).reset_index(drop = True)\n",
    "    \n",
    "    # Print out cross validation high score\n",
    "    print('The highest cross validation score from {} was {:.5f} found on iteration {}.'.format(name, results.loc[0, 'score'], results.loc[0, 'iteration']))\n",
    "    \n",
    "    # Use best hyperparameters to create a model\n",
    "    hyperparameters = results.loc[0, 'hyperparameters']\n",
    "    model = lgb.LGBMClassifier(**hyperparameters)\n",
    "    \n",
    "    # Train and make predictions\n",
    "    model.fit(X_train, y_train)\n",
    "    preds = model.predict_proba(X_test)[:, 1]\n",
    "    \n",
    "    print('ROC AUC from {} on test data = {:.5f}.'.format(name, roc_auc_score(y_test, preds)))\n",
    "    \n",
    "    # Create dataframe of hyperparameters\n",
    "    hyp_df = pd.DataFrame(columns = list(results.loc[0, 'hyperparameters'].keys()))\n",
    "\n",
    "    # Iterate through each set of hyperparameters that were evaluated\n",
    "    for i, hyp in enumerate(results['hyperparameters']):\n",
    "        hyp_df = hyp_df.append(pd.DataFrame(hyp, index = [0]), \n",
    "                               ignore_index = True)\n",
    "        \n",
    "    # Put the iteration and score in the hyperparameter dataframe\n",
    "    hyp_df['iteration'] = results['iteration']\n",
    "    hyp_df['score'] = results['score']\n",
    "    \n",
    "    return hyp_df"
   ]
  },
  {
   "cell_type": "code",
   "execution_count": 62,
   "id": "0b3b0ff1",
   "metadata": {
    "ExecuteTime": {
     "end_time": "2022-09-04T04:48:12.467943Z",
     "start_time": "2022-09-04T04:48:12.144981Z"
    }
   },
   "outputs": [
    {
     "name": "stdout",
     "output_type": "stream",
     "text": [
      "The highest cross validation score from random search was 0.78964 found on iteration 3.\n",
      "ROC AUC from random search on test data = 0.80982.\n"
     ]
    },
    {
     "name": "stderr",
     "output_type": "stream",
     "text": [
      "C:\\Users\\p_mat\\AppData\\Local\\Temp\\ipykernel_46100\\2252053390.py:26: FutureWarning: The frame.append method is deprecated and will be removed from pandas in a future version. Use pandas.concat instead.\n",
      "  hyp_df = hyp_df.append(pd.DataFrame(hyp, index = [0]),\n",
      "C:\\Users\\p_mat\\AppData\\Local\\Temp\\ipykernel_46100\\2252053390.py:26: FutureWarning: The frame.append method is deprecated and will be removed from pandas in a future version. Use pandas.concat instead.\n",
      "  hyp_df = hyp_df.append(pd.DataFrame(hyp, index = [0]),\n",
      "C:\\Users\\p_mat\\AppData\\Local\\Temp\\ipykernel_46100\\2252053390.py:26: FutureWarning: The frame.append method is deprecated and will be removed from pandas in a future version. Use pandas.concat instead.\n",
      "  hyp_df = hyp_df.append(pd.DataFrame(hyp, index = [0]),\n",
      "C:\\Users\\p_mat\\AppData\\Local\\Temp\\ipykernel_46100\\2252053390.py:26: FutureWarning: The frame.append method is deprecated and will be removed from pandas in a future version. Use pandas.concat instead.\n",
      "  hyp_df = hyp_df.append(pd.DataFrame(hyp, index = [0]),\n",
      "C:\\Users\\p_mat\\AppData\\Local\\Temp\\ipykernel_46100\\2252053390.py:26: FutureWarning: The frame.append method is deprecated and will be removed from pandas in a future version. Use pandas.concat instead.\n",
      "  hyp_df = hyp_df.append(pd.DataFrame(hyp, index = [0]),\n"
     ]
    }
   ],
   "source": [
    "random_hyp = evaluate(random_results, name = 'random search')"
   ]
  },
  {
   "cell_type": "code",
   "execution_count": null,
   "id": "dfb897cf",
   "metadata": {},
   "outputs": [],
   "source": []
  },
  {
   "cell_type": "code",
   "execution_count": null,
   "id": "af91cfac",
   "metadata": {},
   "outputs": [],
   "source": []
  }
 ],
 "metadata": {
  "kernelspec": {
   "display_name": "Python 3 (ipykernel)",
   "language": "python",
   "name": "python3"
  },
  "language_info": {
   "codemirror_mode": {
    "name": "ipython",
    "version": 3
   },
   "file_extension": ".py",
   "mimetype": "text/x-python",
   "name": "python",
   "nbconvert_exporter": "python",
   "pygments_lexer": "ipython3",
   "version": "3.9.12"
  },
  "toc": {
   "base_numbering": 1,
   "nav_menu": {},
   "number_sections": true,
   "sideBar": true,
   "skip_h1_title": false,
   "title_cell": "Table of Contents",
   "title_sidebar": "Contents",
   "toc_cell": false,
   "toc_position": {},
   "toc_section_display": true,
   "toc_window_display": false
  }
 },
 "nbformat": 4,
 "nbformat_minor": 5
}
